{
 "cells": [
  {
   "cell_type": "code",
   "execution_count": 1,
   "metadata": {},
   "outputs": [],
   "source": [
    "from Bio import Entrez\n",
    "import pandas as pd\n",
    "import matplotlib.pyplot as plt \n",
    "import seaborn as sns  \n"
   ]
  },
  {
   "cell_type": "markdown",
   "metadata": {},
   "source": [
    "# PART 1"
   ]
  },
  {
   "cell_type": "code",
   "execution_count": 2,
   "metadata": {},
   "outputs": [],
   "source": [
    "# collecting IDs of the search queries\n",
    "def query_search(query, sample_size):\n",
    "        Entrez.email = 'shikha.roy.stats@gmail.com'\n",
    "        handle = Entrez.esearch(db='pubmed',\n",
    "                                sort='relevance',\n",
    "                                retmax=str(sample_size),\n",
    "                                retmode='xml',\n",
    "                                term=query)\n",
    "        results = Entrez.read(handle)\n",
    "        return results\n",
    "\n",
    "#fetch query details corresponding to the query IDs\n",
    "def query_info(id_list):\n",
    "    ids = ','.join(id_list)\n",
    "    Entrez.email = 'shikha.roy.stats@gmail.com'\n",
    "    handle = Entrez.efetch(db='pubmed',\n",
    "                           retmode='xml',\n",
    "                           id=ids)\n",
    "    results = Entrez.read(handle)\n",
    "    return results"
   ]
  },
  {
   "cell_type": "code",
   "execution_count": null,
   "metadata": {},
   "outputs": [],
   "source": []
  },
  {
   "cell_type": "code",
   "execution_count": 3,
   "metadata": {},
   "outputs": [],
   "source": [
    "\n",
    "queries = ['\"Drug-Related Side Effects and Adverse Reactions\"[Majr]',\n",
    "           '\"Congenital Abnormalities\"[Majr]',\n",
    "           '(\"Drug-Related Side Effects and Adverse Reactions\"[Mesh] and \"Congenital Abnormalities\"[Mesh]) OR (\"Drug-Related Side Effects and Adverse Reactions\"[Majr] and \"Congenital Abnormalities\"[Majr])',\n",
    "           'Other' \n",
    "          ]\n",
    "\n",
    "targets = ['DR', 'CA', 'Both', 'Other']\n",
    "\n",
    "keys = {'Queries':queries,'Target':targets}\n",
    "keys = pd.DataFrame(keys)"
   ]
  },
  {
   "cell_type": "code",
   "execution_count": 4,
   "metadata": {},
   "outputs": [
    {
     "data": {
      "text/html": [
       "<div>\n",
       "<style scoped>\n",
       "    .dataframe tbody tr th:only-of-type {\n",
       "        vertical-align: middle;\n",
       "    }\n",
       "\n",
       "    .dataframe tbody tr th {\n",
       "        vertical-align: top;\n",
       "    }\n",
       "\n",
       "    .dataframe thead th {\n",
       "        text-align: right;\n",
       "    }\n",
       "</style>\n",
       "<table border=\"1\" class=\"dataframe\">\n",
       "  <thead>\n",
       "    <tr style=\"text-align: right;\">\n",
       "      <th></th>\n",
       "      <th>Queries</th>\n",
       "      <th>Target</th>\n",
       "    </tr>\n",
       "  </thead>\n",
       "  <tbody>\n",
       "    <tr>\n",
       "      <th>0</th>\n",
       "      <td>\"Drug-Related Side Effects and Adverse Reactio...</td>\n",
       "      <td>DR</td>\n",
       "    </tr>\n",
       "    <tr>\n",
       "      <th>1</th>\n",
       "      <td>\"Congenital Abnormalities\"[Majr]</td>\n",
       "      <td>CA</td>\n",
       "    </tr>\n",
       "    <tr>\n",
       "      <th>2</th>\n",
       "      <td>(\"Drug-Related Side Effects and Adverse Reacti...</td>\n",
       "      <td>Both</td>\n",
       "    </tr>\n",
       "    <tr>\n",
       "      <th>3</th>\n",
       "      <td>Other</td>\n",
       "      <td>Other</td>\n",
       "    </tr>\n",
       "  </tbody>\n",
       "</table>\n",
       "</div>"
      ],
      "text/plain": [
       "                                             Queries Target\n",
       "0  \"Drug-Related Side Effects and Adverse Reactio...     DR\n",
       "1                   \"Congenital Abnormalities\"[Majr]     CA\n",
       "2  (\"Drug-Related Side Effects and Adverse Reacti...   Both\n",
       "3                                              Other  Other"
      ]
     },
     "execution_count": 4,
     "metadata": {},
     "output_type": "execute_result"
    }
   ],
   "source": [
    "keys"
   ]
  },
  {
   "cell_type": "code",
   "execution_count": 9,
   "metadata": {},
   "outputs": [],
   "source": [
    "df = []\n",
    "\n",
    "for index, row in keys.iterrows():\n",
    "    query = row[0]\n",
    "    target = row[1]\n",
    "    results = query_search(query, 4000)\n",
    "    pmids = results['IdList']\n",
    "    records = query_info(pmids)\n",
    "    for pubmed in records['PubmedArticle']:\n",
    "        article = pubmed['MedlineCitation']['Article']\n",
    "        if 'Abstract' in article: \n",
    "            pmid = int(str(pubmed['MedlineCitation']['PMID']))\n",
    "            abstract = abstract = article['Abstract']['AbstractText'][0]\n",
    "            mesh = query\n",
    "            # meshHeadings = pubmed_article['MedlineCitation']['MeshHeadingList']\n",
    "            df.append({'PMID': pmid, 'Abstract': abstract, 'MESH': mesh, 'Target': target})\n",
    "        else:\n",
    "            pass\n",
    "\n",
    "df = pd.DataFrame(df) \n",
    "df = df.drop_duplicates('PMID') # Drop duplicates, removing dupes from DR and CA from Both category"
   ]
  },
  {
   "cell_type": "code",
   "execution_count": 10,
   "metadata": {},
   "outputs": [
    {
     "data": {
      "text/html": [
       "<div>\n",
       "<style scoped>\n",
       "    .dataframe tbody tr th:only-of-type {\n",
       "        vertical-align: middle;\n",
       "    }\n",
       "\n",
       "    .dataframe tbody tr th {\n",
       "        vertical-align: top;\n",
       "    }\n",
       "\n",
       "    .dataframe thead th {\n",
       "        text-align: right;\n",
       "    }\n",
       "</style>\n",
       "<table border=\"1\" class=\"dataframe\">\n",
       "  <thead>\n",
       "    <tr style=\"text-align: right;\">\n",
       "      <th></th>\n",
       "      <th>PMID</th>\n",
       "      <th>Abstract</th>\n",
       "      <th>MESH</th>\n",
       "      <th>Target</th>\n",
       "    </tr>\n",
       "  </thead>\n",
       "  <tbody>\n",
       "    <tr>\n",
       "      <th>0</th>\n",
       "      <td>33736223</td>\n",
       "      <td>Heavy metals pose a serious threat if they go ...</td>\n",
       "      <td>\"Drug-Related Side Effects and Adverse Reactio...</td>\n",
       "      <td>DR</td>\n",
       "    </tr>\n",
       "    <tr>\n",
       "      <th>1</th>\n",
       "      <td>33725933</td>\n",
       "      <td>The association between Glutathione S-transfer...</td>\n",
       "      <td>\"Drug-Related Side Effects and Adverse Reactio...</td>\n",
       "      <td>DR</td>\n",
       "    </tr>\n",
       "    <tr>\n",
       "      <th>2</th>\n",
       "      <td>33589101</td>\n",
       "      <td>Although statins are generally safe and well t...</td>\n",
       "      <td>\"Drug-Related Side Effects and Adverse Reactio...</td>\n",
       "      <td>DR</td>\n",
       "    </tr>\n",
       "    <tr>\n",
       "      <th>3</th>\n",
       "      <td>33571619</td>\n",
       "      <td>Acetaminophen (APAP) poisoning is the most com...</td>\n",
       "      <td>\"Drug-Related Side Effects and Adverse Reactio...</td>\n",
       "      <td>DR</td>\n",
       "    </tr>\n",
       "    <tr>\n",
       "      <th>4</th>\n",
       "      <td>33549839</td>\n",
       "      <td>Bifenazate is a novel acaricide for selective ...</td>\n",
       "      <td>\"Drug-Related Side Effects and Adverse Reactio...</td>\n",
       "      <td>DR</td>\n",
       "    </tr>\n",
       "    <tr>\n",
       "      <th>...</th>\n",
       "      <td>...</td>\n",
       "      <td>...</td>\n",
       "      <td>...</td>\n",
       "      <td>...</td>\n",
       "    </tr>\n",
       "    <tr>\n",
       "      <th>11168</th>\n",
       "      <td>31344544</td>\n",
       "      <td>Research on hexachlorobutadiene (HCBD) has inc...</td>\n",
       "      <td>Other</td>\n",
       "      <td>Other</td>\n",
       "    </tr>\n",
       "    <tr>\n",
       "      <th>11169</th>\n",
       "      <td>31234065</td>\n",
       "      <td>Bioindicators are promising tools used to dete...</td>\n",
       "      <td>Other</td>\n",
       "      <td>Other</td>\n",
       "    </tr>\n",
       "    <tr>\n",
       "      <th>11170</th>\n",
       "      <td>31163186</td>\n",
       "      <td>The purpose of this study is to assess some of...</td>\n",
       "      <td>Other</td>\n",
       "      <td>Other</td>\n",
       "    </tr>\n",
       "    <tr>\n",
       "      <th>11171</th>\n",
       "      <td>31162547</td>\n",
       "      <td>Somatic mutations in the ubiquitin-specific pe...</td>\n",
       "      <td>Other</td>\n",
       "      <td>Other</td>\n",
       "    </tr>\n",
       "    <tr>\n",
       "      <th>11172</th>\n",
       "      <td>31039628</td>\n",
       "      <td>Kenyan gay, bisexual, and other men who have s...</td>\n",
       "      <td>Other</td>\n",
       "      <td>Other</td>\n",
       "    </tr>\n",
       "  </tbody>\n",
       "</table>\n",
       "<p>11143 rows × 4 columns</p>\n",
       "</div>"
      ],
      "text/plain": [
       "           PMID                                           Abstract  \\\n",
       "0      33736223  Heavy metals pose a serious threat if they go ...   \n",
       "1      33725933  The association between Glutathione S-transfer...   \n",
       "2      33589101  Although statins are generally safe and well t...   \n",
       "3      33571619  Acetaminophen (APAP) poisoning is the most com...   \n",
       "4      33549839  Bifenazate is a novel acaricide for selective ...   \n",
       "...         ...                                                ...   \n",
       "11168  31344544  Research on hexachlorobutadiene (HCBD) has inc...   \n",
       "11169  31234065  Bioindicators are promising tools used to dete...   \n",
       "11170  31163186  The purpose of this study is to assess some of...   \n",
       "11171  31162547  Somatic mutations in the ubiquitin-specific pe...   \n",
       "11172  31039628  Kenyan gay, bisexual, and other men who have s...   \n",
       "\n",
       "                                                    MESH Target  \n",
       "0      \"Drug-Related Side Effects and Adverse Reactio...     DR  \n",
       "1      \"Drug-Related Side Effects and Adverse Reactio...     DR  \n",
       "2      \"Drug-Related Side Effects and Adverse Reactio...     DR  \n",
       "3      \"Drug-Related Side Effects and Adverse Reactio...     DR  \n",
       "4      \"Drug-Related Side Effects and Adverse Reactio...     DR  \n",
       "...                                                  ...    ...  \n",
       "11168                                              Other  Other  \n",
       "11169                                              Other  Other  \n",
       "11170                                              Other  Other  \n",
       "11171                                              Other  Other  \n",
       "11172                                              Other  Other  \n",
       "\n",
       "[11143 rows x 4 columns]"
      ]
     },
     "execution_count": 10,
     "metadata": {},
     "output_type": "execute_result"
    }
   ],
   "source": [
    "df"
   ]
  },
  {
   "cell_type": "code",
   "execution_count": 11,
   "metadata": {},
   "outputs": [
    {
     "data": {
      "text/html": [
       "<div>\n",
       "<style scoped>\n",
       "    .dataframe tbody tr th:only-of-type {\n",
       "        vertical-align: middle;\n",
       "    }\n",
       "\n",
       "    .dataframe tbody tr th {\n",
       "        vertical-align: top;\n",
       "    }\n",
       "\n",
       "    .dataframe thead th {\n",
       "        text-align: right;\n",
       "    }\n",
       "</style>\n",
       "<table border=\"1\" class=\"dataframe\">\n",
       "  <thead>\n",
       "    <tr style=\"text-align: right;\">\n",
       "      <th></th>\n",
       "      <th>PMID</th>\n",
       "      <th>Abstract</th>\n",
       "      <th>MESH</th>\n",
       "      <th>Target</th>\n",
       "    </tr>\n",
       "  </thead>\n",
       "  <tbody>\n",
       "    <tr>\n",
       "      <th>0</th>\n",
       "      <td>33736223</td>\n",
       "      <td>Heavy metals pose a serious threat if they go ...</td>\n",
       "      <td>\"Drug-Related Side Effects and Adverse Reactio...</td>\n",
       "      <td>DR</td>\n",
       "    </tr>\n",
       "    <tr>\n",
       "      <th>1</th>\n",
       "      <td>33725933</td>\n",
       "      <td>The association between Glutathione S-transfer...</td>\n",
       "      <td>\"Drug-Related Side Effects and Adverse Reactio...</td>\n",
       "      <td>DR</td>\n",
       "    </tr>\n",
       "    <tr>\n",
       "      <th>2</th>\n",
       "      <td>33589101</td>\n",
       "      <td>Although statins are generally safe and well t...</td>\n",
       "      <td>\"Drug-Related Side Effects and Adverse Reactio...</td>\n",
       "      <td>DR</td>\n",
       "    </tr>\n",
       "    <tr>\n",
       "      <th>3</th>\n",
       "      <td>33571619</td>\n",
       "      <td>Acetaminophen (APAP) poisoning is the most com...</td>\n",
       "      <td>\"Drug-Related Side Effects and Adverse Reactio...</td>\n",
       "      <td>DR</td>\n",
       "    </tr>\n",
       "    <tr>\n",
       "      <th>4</th>\n",
       "      <td>33549839</td>\n",
       "      <td>Bifenazate is a novel acaricide for selective ...</td>\n",
       "      <td>\"Drug-Related Side Effects and Adverse Reactio...</td>\n",
       "      <td>DR</td>\n",
       "    </tr>\n",
       "  </tbody>\n",
       "</table>\n",
       "</div>"
      ],
      "text/plain": [
       "       PMID                                           Abstract  \\\n",
       "0  33736223  Heavy metals pose a serious threat if they go ...   \n",
       "1  33725933  The association between Glutathione S-transfer...   \n",
       "2  33589101  Although statins are generally safe and well t...   \n",
       "3  33571619  Acetaminophen (APAP) poisoning is the most com...   \n",
       "4  33549839  Bifenazate is a novel acaricide for selective ...   \n",
       "\n",
       "                                                MESH Target  \n",
       "0  \"Drug-Related Side Effects and Adverse Reactio...     DR  \n",
       "1  \"Drug-Related Side Effects and Adverse Reactio...     DR  \n",
       "2  \"Drug-Related Side Effects and Adverse Reactio...     DR  \n",
       "3  \"Drug-Related Side Effects and Adverse Reactio...     DR  \n",
       "4  \"Drug-Related Side Effects and Adverse Reactio...     DR  "
      ]
     },
     "execution_count": 11,
     "metadata": {},
     "output_type": "execute_result"
    }
   ],
   "source": [
    "df.head()"
   ]
  },
  {
   "cell_type": "code",
   "execution_count": 12,
   "metadata": {},
   "outputs": [
    {
     "data": {
      "text/plain": [
       "(11143, 4)"
      ]
     },
     "execution_count": 12,
     "metadata": {},
     "output_type": "execute_result"
    }
   ],
   "source": [
    "df.shape"
   ]
  },
  {
   "cell_type": "code",
   "execution_count": 13,
   "metadata": {},
   "outputs": [
    {
     "name": "stdout",
     "output_type": "stream",
     "text": [
      "<class 'pandas.core.frame.DataFrame'>\n",
      "Int64Index: 11143 entries, 0 to 11172\n",
      "Data columns (total 4 columns):\n",
      " #   Column    Non-Null Count  Dtype \n",
      "---  ------    --------------  ----- \n",
      " 0   PMID      11143 non-null  int64 \n",
      " 1   Abstract  11143 non-null  object\n",
      " 2   MESH      11143 non-null  object\n",
      " 3   Target    11143 non-null  object\n",
      "dtypes: int64(1), object(3)\n",
      "memory usage: 435.3+ KB\n"
     ]
    }
   ],
   "source": [
    "df.info()"
   ]
  },
  {
   "cell_type": "code",
   "execution_count": 14,
   "metadata": {},
   "outputs": [
    {
     "data": {
      "text/plain": [
       "PMID        0\n",
       "Abstract    0\n",
       "MESH        0\n",
       "Target      0\n",
       "dtype: int64"
      ]
     },
     "execution_count": 14,
     "metadata": {},
     "output_type": "execute_result"
    }
   ],
   "source": [
    "df.isna().sum()"
   ]
  },
  {
   "cell_type": "code",
   "execution_count": 15,
   "metadata": {},
   "outputs": [
    {
     "name": "stdout",
     "output_type": "stream",
     "text": [
      "number of duplicate rows: (0, 4)\n"
     ]
    }
   ],
   "source": [
    "dupl_rows=df[df.duplicated()]\n",
    "print('number of duplicate rows:', dupl_rows.shape)"
   ]
  },
  {
   "cell_type": "code",
   "execution_count": 16,
   "metadata": {},
   "outputs": [
    {
     "data": {
      "text/plain": [
       "Other    3986\n",
       "DR       3286\n",
       "CA       3148\n",
       "Both      723\n",
       "Name: Target, dtype: int64"
      ]
     },
     "execution_count": 16,
     "metadata": {},
     "output_type": "execute_result"
    }
   ],
   "source": [
    "df['Target'].value_counts()"
   ]
  },
  {
   "cell_type": "code",
   "execution_count": 17,
   "metadata": {},
   "outputs": [
    {
     "name": "stdout",
     "output_type": "stream",
     "text": [
      "Percentage of DR is : 29.5 \n",
      "Percentage of CA is : 28.3 \n",
      "Percentage of Other is : 35.8 \n",
      "Percentage of Both is : 6.5\n"
     ]
    }
   ],
   "source": [
    "# Percentage\n",
    "DR = round(df.loc[df['Target']=='DR','Target'].count()/len(df)*100, 1)\n",
    "CA = round(df.loc[df['Target']=='CA','Target'].count()/len(df)*100, 1)\n",
    "Other = round(df.loc[df['Target']=='Other','Target'].count()/len(df)*100, 1)\n",
    "Both = round(df.loc[df['Target']=='Both','Target'].count()/len(df)*100, 1)\n",
    "\n",
    "print(\"Percentage of DR is :\",DR,\"\\nPercentage of CA is :\",CA,\"\\nPercentage of Other is :\",Other,\"\\nPercentage of Both is :\",Both)"
   ]
  },
  {
   "cell_type": "code",
   "execution_count": 18,
   "metadata": {},
   "outputs": [
    {
     "data": {
      "text/plain": [
       "<matplotlib.axes._subplots.AxesSubplot at 0x1f8fca53188>"
      ]
     },
     "execution_count": 18,
     "metadata": {},
     "output_type": "execute_result"
    },
    {
     "data": {
      "image/png": "[encoded data removed]",
      "text/plain": [
       "<Figure size 504x288 with 1 Axes>"
      ]
     },
     "metadata": {
      "needs_background": "light"
     },
     "output_type": "display_data"
    }
   ],
   "source": [
    "import sys \n",
    "plt.figure(figsize=(7,4))\n",
    "sns.set_context('notebook', font_scale=1.2)\n",
    "sns.countplot('Target',data=df, palette=\"Reds\")"
   ]
  },
  {
   "cell_type": "code",
   "execution_count": 19,
   "metadata": {},
   "outputs": [
    {
     "data": {
      "text/plain": [
       "Other                                                                                                                                                                                               3986\n",
       "\"Drug-Related Side Effects and Adverse Reactions\"[Majr]                                                                                                                                             3286\n",
       "\"Congenital Abnormalities\"[Majr]                                                                                                                                                                    3148\n",
       "(\"Drug-Related Side Effects and Adverse Reactions\"[Mesh] and \"Congenital Abnormalities\"[Mesh]) OR (\"Drug-Related Side Effects and Adverse Reactions\"[Majr] and \"Congenital Abnormalities\"[Majr])     723\n",
       "Name: MESH, dtype: int64"
      ]
     },
     "execution_count": 19,
     "metadata": {},
     "output_type": "execute_result"
    }
   ],
   "source": [
    "df['MESH'].value_counts()"
   ]
  },
  {
   "cell_type": "code",
   "execution_count": 20,
   "metadata": {},
   "outputs": [],
   "source": [
    "df1=df\n",
    "df1.to_csv(\"df1.csv\")"
   ]
  },
  {
   "cell_type": "markdown",
   "metadata": {},
   "source": [
    "# PART 2\n",
    "\n",
    "1.Text Cleaning & Feature Engineering"
   ]
  },
  {
   "cell_type": "code",
   "execution_count": 21,
   "metadata": {},
   "outputs": [],
   "source": [
    "import string"
   ]
  },
  {
   "cell_type": "code",
   "execution_count": 22,
   "metadata": {},
   "outputs": [],
   "source": [
    "from nltk import word_tokenize\n",
    "from nltk.corpus import stopwords\n",
    "from textblob import TextBlob"
   ]
  },
  {
   "cell_type": "code",
   "execution_count": 23,
   "metadata": {},
   "outputs": [],
   "source": [
    "#from nltk.tokenize import sent_tokenize\n",
    "#df['Abstract'] = df['Abstract'].apply(lambda x : sent_tokenize(x))"
   ]
  },
  {
   "cell_type": "code",
   "execution_count": 24,
   "metadata": {},
   "outputs": [],
   "source": [
    "#df['Abstract'].head()"
   ]
  },
  {
   "cell_type": "code",
   "execution_count": 25,
   "metadata": {},
   "outputs": [],
   "source": [
    "#from nltk.probability import FreqDist\n",
    "#fdist = FreqDist(tokenized_word)"
   ]
  },
  {
   "cell_type": "code",
   "execution_count": 26,
   "metadata": {},
   "outputs": [],
   "source": [
    "stop = stopwords.words('english')\n",
    "punctuation = string.punctuation"
   ]
  },
  {
   "cell_type": "code",
   "execution_count": 27,
   "metadata": {},
   "outputs": [],
   "source": [
    "#df['punctuation_count'] = df['Abstract'].apply(lambda x: len(\"\".join(_ for _ in x if _ in punctuation)))\n",
    "df['punctuation_count'] = df['Abstract'].apply(lambda x : len([a for a in x if a in punctuation]))\n"
   ]
  },
  {
   "cell_type": "code",
   "execution_count": 28,
   "metadata": {},
   "outputs": [
    {
     "data": {
      "text/plain": [
       "0         21\n",
       "1        111\n",
       "2         19\n",
       "3         50\n",
       "4         18\n",
       "        ... \n",
       "11168     19\n",
       "11169     38\n",
       "11170     32\n",
       "11171      7\n",
       "11172     95\n",
       "Name: punctuation_count, Length: 11143, dtype: int64"
      ]
     },
     "execution_count": 28,
     "metadata": {},
     "output_type": "execute_result"
    }
   ],
   "source": [
    "df['punctuation_count']"
   ]
  },
  {
   "cell_type": "code",
   "execution_count": 29,
   "metadata": {},
   "outputs": [],
   "source": [
    "#Text cleaning\n",
    "#converting to lower case\n",
    "df['Abstract'] = df['Abstract'].apply(lambda x: \" \".join(x.lower() for x in x.split())) "
   ]
  },
  {
   "cell_type": "code",
   "execution_count": 30,
   "metadata": {},
   "outputs": [
    {
     "data": {
      "text/plain": [
       "0    heavy metals pose a serious threat if they go ...\n",
       "1    the association between glutathione s-transfer...\n",
       "2    although statins are generally safe and well t...\n",
       "3    acetaminophen (apap) poisoning is the most com...\n",
       "4    bifenazate is a novel acaricide for selective ...\n",
       "Name: Abstract, dtype: object"
      ]
     },
     "execution_count": 30,
     "metadata": {},
     "output_type": "execute_result"
    }
   ],
   "source": [
    "df['Abstract'].head()"
   ]
  },
  {
   "cell_type": "code",
   "execution_count": 31,
   "metadata": {},
   "outputs": [],
   "source": [
    "##removing punctuation\n",
    "df['Abstract']=df['Abstract'].str.replace('[^\\w\\s]','')"
   ]
  },
  {
   "cell_type": "code",
   "execution_count": 32,
   "metadata": {},
   "outputs": [
    {
     "data": {
      "text/plain": [
       "the     67939\n",
       "of      59920\n",
       "and     54898\n",
       "in      38167\n",
       "to      30392\n",
       "a       22569\n",
       "with    20447\n",
       "for     13875\n",
       "is      13021\n",
       "that     9668\n",
       "dtype: int64"
      ]
     },
     "execution_count": 32,
     "metadata": {},
     "output_type": "execute_result"
    }
   ],
   "source": [
    "#common word removal\n",
    "#first 10 most common words\n",
    "freq=pd.Series(' '.join(df['Abstract']).split()).value_counts()[:10]\n",
    "freq"
   ]
  },
  {
   "cell_type": "code",
   "execution_count": 33,
   "metadata": {},
   "outputs": [],
   "source": [
    "from nltk.corpus import stopwords \n",
    "from nltk.tokenize import word_tokenize"
   ]
  },
  {
   "cell_type": "code",
   "execution_count": 34,
   "metadata": {},
   "outputs": [],
   "source": [
    "df['Abstract_1'] = df['Abstract'].apply(lambda x: ' '.join([word for word in x.split() if word not in (stop)]))\n"
   ]
  },
  {
   "cell_type": "code",
   "execution_count": 35,
   "metadata": {},
   "outputs": [
    {
     "data": {
      "text/plain": [
       "patients      7481\n",
       "study         5039\n",
       "treatment     3687\n",
       "liver         3621\n",
       "clinical      2998\n",
       "risk          2947\n",
       "associated    2924\n",
       "drug          2876\n",
       "may           2848\n",
       "disease       2566\n",
       "dtype: int64"
      ]
     },
     "execution_count": 35,
     "metadata": {},
     "output_type": "execute_result"
    }
   ],
   "source": [
    "freq=pd.Series(' '.join(df['Abstract_1']).split()).value_counts()[:10]\n",
    "freq"
   ]
  },
  {
   "cell_type": "code",
   "execution_count": 36,
   "metadata": {},
   "outputs": [],
   "source": [
    "#removing digits\n",
    "df['Abstract_1']=df['Abstract_1'].str.replace(\"[0-9]\",\"\")"
   ]
  },
  {
   "cell_type": "code",
   "execution_count": 37,
   "metadata": {},
   "outputs": [],
   "source": [
    "from nltk.stem import PorterStemmer \n",
    "st = PorterStemmer()"
   ]
  },
  {
   "cell_type": "code",
   "execution_count": 38,
   "metadata": {},
   "outputs": [],
   "source": [
    "#df['Abstract_1']=df['Abstract_1'].apply(lambda x: \" \".join([st.stem(word) for word in x.split()]))\n",
    "#df['Abstract_1'].head()"
   ]
  },
  {
   "cell_type": "code",
   "execution_count": 39,
   "metadata": {},
   "outputs": [],
   "source": [
    "#df.to_csv(\"C:\\D Drive Data\\pubmed\\pubmed_bert\\df.csv\")"
   ]
  },
  {
   "cell_type": "code",
   "execution_count": 40,
   "metadata": {},
   "outputs": [],
   "source": [
    "import unidecode"
   ]
  },
  {
   "cell_type": "code",
   "execution_count": 41,
   "metadata": {},
   "outputs": [],
   "source": [
    "#convet unidecode string to closest match in ascii\n",
    "df['Abstract_1'] = df['Abstract_1'].apply(lambda x: ' '.join([unidecode.unidecode(word) for word in x.split() ]))\n"
   ]
  },
  {
   "cell_type": "code",
   "execution_count": 42,
   "metadata": {},
   "outputs": [],
   "source": [
    "##depend on length of abstarct \n",
    "\n",
    "df['word_count'] = df['Abstract_1'].apply(lambda x : len(x.split()))\n",
    "df['char_count'] = df['Abstract_1'].apply(lambda x : len(x.replace(\" \",\"\")))\n",
    "df['word_density'] = df['word_count'] / (df['char_count'] + 1)\n",
    "df['total_length'] = df['Abstract_1'].apply(len)\n",
    "df['num_unique_words'] = df['Abstract_1'].apply(lambda x: len(set(w for w in x.split())))\n",
    "df['uniq_per_tot_words'] = df['num_unique_words'] / df['word_count']"
   ]
  },
  {
   "cell_type": "code",
   "execution_count": 43,
   "metadata": {},
   "outputs": [],
   "source": [
    "# functions to get polatiy and subjectivity of text using the module textblob\n",
    "def polarity(text):\n",
    "    try:\n",
    "        textblob = TextBlob(text)\n",
    "        pol = textblob.sentiment.polarity\n",
    "    except:\n",
    "        pol = 0.0\n",
    "    return pol\n",
    "\n",
    "def subjectivity(text):\n",
    "    try:\n",
    "        textblob = TextBlob(text)\n",
    "        subj = textblob.sentiment.subjectivity\n",
    "    except:\n",
    "        subj = 0.0\n",
    "    return subj\n",
    "\n",
    "\n",
    "# change df_small to df to create these features on complete dataframe\n",
    "df['polarity'] = df['Abstract_1'].apply(polarity)\n",
    "df['subjectivity'] = df['Abstract_1'].apply(subjectivity)"
   ]
  },
  {
   "cell_type": "code",
   "execution_count": 44,
   "metadata": {},
   "outputs": [
    {
     "data": {
      "text/plain": [
       "<matplotlib.axes._subplots.AxesSubplot at 0x1f891193ec8>"
      ]
     },
     "execution_count": 44,
     "metadata": {},
     "output_type": "execute_result"
    },
    {
     "data": {
      "image/png": "[encoded data removed]",
      "text/plain": [
       "<Figure size 432x288 with 1 Axes>"
      ]
     },
     "metadata": {
      "needs_background": "light"
     },
     "output_type": "display_data"
    }
   ],
   "source": [
    "sns.violinplot(x='polarity', y='Target', data=df)\n"
   ]
  },
  {
   "cell_type": "code",
   "execution_count": 45,
   "metadata": {},
   "outputs": [
    {
     "data": {
      "text/plain": [
       "<matplotlib.axes._subplots.AxesSubplot at 0x1f891ad1c88>"
      ]
     },
     "execution_count": 45,
     "metadata": {},
     "output_type": "execute_result"
    },
    {
     "data": {
      "image/png": "[encoded data removed]",
      "text/plain": [
       "<Figure size 432x288 with 1 Axes>"
      ]
     },
     "metadata": {
      "needs_background": "light"
     },
     "output_type": "display_data"
    }
   ],
   "source": [
    "sns.violinplot(x='subjectivity', y='Target', data=df)\n"
   ]
  },
  {
   "cell_type": "code",
   "execution_count": 46,
   "metadata": {},
   "outputs": [
    {
     "name": "stderr",
     "output_type": "stream",
     "text": [
      "[nltk_data] Downloading package wordnet to\n",
      "[nltk_data]     C:\\Users\\Shikha.roy\\AppData\\Roaming\\nltk_data...\n",
      "[nltk_data]   Package wordnet is already up-to-date!\n"
     ]
    },
    {
     "data": {
      "text/plain": [
       "0    heavy metal pose serious threat go beyond perm...\n",
       "1    association glutathione stransferase pi gstp g...\n",
       "2    although statins generally safe well tolerate ...\n",
       "3    acetaminophen apap poison common cause drugind...\n",
       "4    bifenazate novel acaricide selective foliar sp...\n",
       "Name: Abstract_1, dtype: object"
      ]
     },
     "execution_count": 46,
     "metadata": {},
     "output_type": "execute_result"
    }
   ],
   "source": [
    "#lemmatization\n",
    "\n",
    "from nltk.stem import WordNetLemmatizer \n",
    "import nltk\n",
    "nltk.download('wordnet')\n",
    "lemmatizer = WordNetLemmatizer()\n",
    "df['Abstract_1']=df['Abstract_1'].apply(lambda x: \" \".join([lemmatizer.lemmatize(word, pos=\"v\") for word in x.split()]))\n",
    "df['Abstract_1'].head()"
   ]
  },
  {
   "cell_type": "code",
   "execution_count": 47,
   "metadata": {},
   "outputs": [],
   "source": [
    "#import imblearn\n",
    "#import sklearn\n",
    "#from imblearn.over_sampling import SMOTE\n",
    "\n",
    "#smote = SMOTE(ratio='minority')\n",
    "#X_sm, y_sm = smote.fit_sample(X, y)"
   ]
  },
  {
   "cell_type": "code",
   "execution_count": 48,
   "metadata": {},
   "outputs": [
    {
     "data": {
      "text/plain": [
       "Index(['PMID', 'Abstract', 'MESH', 'Target', 'punctuation_count', 'Abstract_1',\n",
       "       'word_count', 'char_count', 'word_density', 'total_length',\n",
       "       'num_unique_words', 'uniq_per_tot_words', 'polarity', 'subjectivity'],\n",
       "      dtype='object')"
      ]
     },
     "execution_count": 48,
     "metadata": {},
     "output_type": "execute_result"
    }
   ],
   "source": [
    "df.columns"
   ]
  },
  {
   "cell_type": "code",
   "execution_count": 49,
   "metadata": {},
   "outputs": [],
   "source": [
    "df=df.drop(['PMID', 'Abstract', 'MESH'],axis=1)\n"
   ]
  },
  {
   "cell_type": "code",
   "execution_count": 50,
   "metadata": {},
   "outputs": [
    {
     "data": {
      "text/plain": [
       "Index(['Target', 'punctuation_count', 'Abstract_1', 'word_count', 'char_count',\n",
       "       'word_density', 'total_length', 'num_unique_words',\n",
       "       'uniq_per_tot_words', 'polarity', 'subjectivity'],\n",
       "      dtype='object')"
      ]
     },
     "execution_count": 50,
     "metadata": {},
     "output_type": "execute_result"
    }
   ],
   "source": [
    "df.columns"
   ]
  },
  {
   "cell_type": "code",
   "execution_count": 318,
   "metadata": {},
   "outputs": [],
   "source": [
    "\n",
    "mapping = {\n",
    "    'DR': 0,\n",
    "    'CA': 1,\n",
    "    'Both': 2,\n",
    "    'Other': 3\n",
    "}\n",
    "\n",
    "# Category mapping\n",
    "df['Target_Code'] = df['Target']\n",
    "\n",
    "df = df.replace({'Target_Code':mapping})\n"
   ]
  },
  {
   "cell_type": "code",
   "execution_count": 319,
   "metadata": {},
   "outputs": [
    {
     "data": {
      "text/plain": [
       "3    3986\n",
       "0    3286\n",
       "1    3148\n",
       "2     723\n",
       "Name: Target_Code, dtype: int64"
      ]
     },
     "execution_count": 319,
     "metadata": {},
     "output_type": "execute_result"
    }
   ],
   "source": [
    "df['Target_Code'].value_counts()"
   ]
  },
  {
   "cell_type": "code",
   "execution_count": 320,
   "metadata": {},
   "outputs": [],
   "source": [
    "feature_cols=df.columns.difference(['Target','Target_Code'])\n",
    "#X=df['Abstract_1']\n",
    "#Y=df['Target']"
   ]
  },
  {
   "cell_type": "code",
   "execution_count": 53,
   "metadata": {},
   "outputs": [],
   "source": [
    "#from sklearn.model_selection import StratifiedShuffleSplit\n",
    "\n",
    "#strat_shuffle=StratifiedShuffleSplit(n_splits=1,test_size=1500,random_state=50)\n",
    "\n",
    "#strat_shuffle.get_n_splits(X, Y)\n",
    "#X_train=df.loc[train_idx,feature_cols]\n",
    "#Y_train=df.loc[train_idx,target]\n",
    "\n",
    "#X_test=df.loc[test_idx,feature_cols]\n",
    "#Y_test=df.loc[test_idx,target]\n",
    "\n",
    "#for train_index, test_index in strat_shuffle.split(X, Y):\n",
    " #   print(\"n_split\",\"TRAIN:\", train_index, \"TEST:\", test_index)\n",
    "  #  X_train, X_test = X.loc[train_index], X.loc[test_index]\n",
    "   # Y_train, Y_test = Y.loc[train_index], Y.loc[test_index]"
   ]
  },
  {
   "cell_type": "code",
   "execution_count": 321,
   "metadata": {},
   "outputs": [],
   "source": [
    "from sklearn.model_selection import train_test_split\n",
    "X_train, X_test, Y_train, Y_test = train_test_split(df[feature_cols], df['Target_Code'], test_size=0.2, random_state=1)"
   ]
  },
  {
   "cell_type": "code",
   "execution_count": 322,
   "metadata": {},
   "outputs": [
    {
     "data": {
      "text/plain": [
       "Abstract_1            0\n",
       "char_count            0\n",
       "num_unique_words      0\n",
       "polarity              0\n",
       "punctuation_count     0\n",
       "subjectivity          0\n",
       "total_length          0\n",
       "uniq_per_tot_words    3\n",
       "word_count            0\n",
       "word_density          0\n",
       "dtype: int64"
      ]
     },
     "execution_count": 322,
     "metadata": {},
     "output_type": "execute_result"
    }
   ],
   "source": [
    "X_train.isna().sum()"
   ]
  },
  {
   "cell_type": "code",
   "execution_count": 56,
   "metadata": {},
   "outputs": [
    {
     "data": {
      "text/plain": [
       "Other    0.358201\n",
       "DR       0.293807\n",
       "CA       0.282814\n",
       "Both     0.065178\n",
       "Name: Target, dtype: float64"
      ]
     },
     "execution_count": 56,
     "metadata": {},
     "output_type": "execute_result"
    }
   ],
   "source": [
    "Y_train.value_counts(normalize=True)"
   ]
  },
  {
   "cell_type": "code",
   "execution_count": 323,
   "metadata": {},
   "outputs": [
    {
     "data": {
      "text/plain": [
       "3    0.355765\n",
       "0    0.299237\n",
       "1    0.281292\n",
       "2    0.063706\n",
       "Name: Target_Code, dtype: float64"
      ]
     },
     "execution_count": 323,
     "metadata": {},
     "output_type": "execute_result"
    }
   ],
   "source": [
    "Y_test.value_counts(normalize=True)"
   ]
  },
  {
   "cell_type": "code",
   "execution_count": 324,
   "metadata": {},
   "outputs": [
    {
     "name": "stdout",
     "output_type": "stream",
     "text": [
      "0.24.1\n"
     ]
    }
   ],
   "source": [
    "import sklearn\n",
    "print(sklearn.__version__)"
   ]
  },
  {
   "cell_type": "markdown",
   "metadata": {},
   "source": [
    "### 2. Features through TFDF Vectorizer ( word)"
   ]
  },
  {
   "cell_type": "code",
   "execution_count": 325,
   "metadata": {},
   "outputs": [],
   "source": [
    "#Parameter election\n",
    "ngram_range = (1,3)\n",
    "min_df = 0.1\n",
    "max_df = 1."
   ]
  },
  {
   "cell_type": "code",
   "execution_count": 326,
   "metadata": {},
   "outputs": [],
   "source": [
    "from sklearn.feature_extraction.text import TfidfVectorizer"
   ]
  },
  {
   "cell_type": "code",
   "execution_count": 327,
   "metadata": {},
   "outputs": [],
   "source": [
    "tfidf = TfidfVectorizer(encoding='utf-8',\n",
    "                        ngram_range=ngram_range,\n",
    "                        stop_words=None,\n",
    "                        analyzer='word',\n",
    "                        lowercase=False,\n",
    "                        max_df=max_df,\n",
    "                        min_df=min_df,\n",
    "                        norm='l2',\n",
    "                        sublinear_tf=True)\n",
    "                        "
   ]
  },
  {
   "cell_type": "code",
   "execution_count": 328,
   "metadata": {},
   "outputs": [
    {
     "name": "stdout",
     "output_type": "stream",
     "text": [
      "(8914, 43)\n",
      "(2229, 43)\n"
     ]
    }
   ],
   "source": [
    "X_tfidf_train = tfidf.fit_transform(X_train['Abstract_1']).toarray()\n",
    "Y_tfidf_train = Y_train\n",
    "print(X_tfidf_train.shape)\n",
    "X_tfidf_test = tfidf.transform(X_test['Abstract_1']).toarray()\n",
    "Y_tfidf_test = Y_test\n",
    "print(X_tfidf_test.shape)\n",
    "\n",
    "X_tfidf_train1 = pd.DataFrame(X_tfidf_train, columns=tfidf.get_feature_names())\n",
    "#print(X_tfidf_train1)\n",
    "X_tfidf_test1 = pd.DataFrame(X_tfidf_test, columns=tfidf.get_feature_names())\n"
   ]
  },
  {
   "cell_type": "code",
   "execution_count": 63,
   "metadata": {},
   "outputs": [],
   "source": [
    "#  create a dictionary mapping the tokens to their tfidf values\n",
    "#tfidf = dict(zip(vect_word.get_feature_names(), vect_word.idf_))\n",
    "#tfidf = pd.DataFrame(columns=['title_word_tfidf']).from_dict(dict(tfidf), orient='index')\n",
    "#tfidf.columns = ['title_word_tfidf']"
   ]
  },
  {
   "cell_type": "code",
   "execution_count": 64,
   "metadata": {},
   "outputs": [],
   "source": [
    "# features with highest tf-idf (in title)\n",
    "#tfidf.sort_values(by=['title_word_tfidf'], ascending=False).head(10)"
   ]
  },
  {
   "cell_type": "markdown",
   "metadata": {},
   "source": [
    "### 3. Features through TFDF Vectorizer ( char )"
   ]
  },
  {
   "cell_type": "code",
   "execution_count": 329,
   "metadata": {},
   "outputs": [],
   "source": [
    "#character wise TFDF\n",
    "#character coming more than 50 % of the time\n",
    "ngram_range = (4,8)\n",
    "min_df = 0.4\n",
    "max_df = 1.\n",
    "tfidf_cr = TfidfVectorizer(encoding='utf-8',\n",
    "                        ngram_range=ngram_range,\n",
    "                        stop_words=None,\n",
    "                        analyzer='char',\n",
    "                        lowercase=False,\n",
    "                        max_df=max_df,\n",
    "                        min_df=min_df,\n",
    "                        norm='l2',\n",
    "                        sublinear_tf=True)"
   ]
  },
  {
   "cell_type": "code",
   "execution_count": 330,
   "metadata": {},
   "outputs": [
    {
     "name": "stdout",
     "output_type": "stream",
     "text": [
      "(8914, 58)\n",
      "(2229, 58)\n"
     ]
    }
   ],
   "source": [
    "X_tfidf_crtrain = tfidf_cr.fit_transform(X_train['Abstract_1']).toarray()\n",
    "Y_tfidf_crtrain = Y_train\n",
    "print(X_tfidf_crtrain.shape)\n",
    "X_tfidf_crtest = tfidf_cr.transform(X_test['Abstract_1']).toarray()\n",
    "Y_tfidf_crtest = Y_test\n",
    "print(X_tfidf_crtest.shape)\n",
    "X_tfidf_crtrain1 = pd.DataFrame(X_tfidf_crtrain, columns=tfidf_cr.get_feature_names())\n",
    "#print(X_tfidf_train1)\n",
    "X_tfidf_crtest1 = pd.DataFrame(X_tfidf_crtest, columns=tfidf_cr.get_feature_names())\n"
   ]
  },
  {
   "cell_type": "code",
   "execution_count": 331,
   "metadata": {},
   "outputs": [
    {
     "name": "stdout",
     "output_type": "stream",
     "text": [
      "           com       con       dis       pat       pre       pro       res  \\\n",
      "0     0.000000  0.000000  0.000000  0.358827  0.274539  0.000000  0.000000   \n",
      "1     0.135752  0.000000  0.359654  0.147849  0.000000  0.132721  0.000000   \n",
      "2     0.108524  0.101217  0.000000  0.000000  0.112088  0.000000  0.293019   \n",
      "3     0.243247  0.193919  0.096735  0.000000  0.234826  0.144231  0.000000   \n",
      "4     0.126091  0.000000  0.000000  0.000000  0.000000  0.000000  0.000000   \n",
      "...        ...       ...       ...       ...       ...       ...       ...   \n",
      "8909  0.212242  0.000000  0.398971  0.000000  0.000000  0.000000  0.000000   \n",
      "8910  0.000000  0.000000  0.000000  0.000000  0.000000  0.000000  0.000000   \n",
      "8911  0.199255  0.260870  0.000000  0.000000  0.288886  0.000000  0.107429   \n",
      "8912  0.000000  0.000000  0.000000  0.000000  0.000000  0.000000  0.000000   \n",
      "8913  0.000000  0.133508  0.060905  0.142571  0.000000  0.127984  0.105093   \n",
      "\n",
      "           stu      stud     study  ...      tion     tion      tions  \\\n",
      "0     0.000000  0.000000  0.000000  ...  0.000000  0.000000  0.000000   \n",
      "1     0.000000  0.000000  0.000000  ...  0.094285  0.103227  0.000000   \n",
      "2     0.000000  0.000000  0.000000  ...  0.158182  0.082523  0.000000   \n",
      "3     0.000000  0.000000  0.000000  ...  0.205626  0.218813  0.094803   \n",
      "4     0.000000  0.000000  0.000000  ...  0.244490  0.228801  0.137195   \n",
      "...        ...       ...       ...  ...       ...       ...       ...   \n",
      "8909  0.240249  0.240489  0.241350  ...  0.000000  0.000000  0.000000   \n",
      "8910  0.000000  0.000000  0.000000  ...  0.216091  0.236585  0.000000   \n",
      "8911  0.000000  0.000000  0.000000  ...  0.217786  0.238441  0.000000   \n",
      "8912  0.000000  0.000000  0.000000  ...  0.252589  0.000000  0.395705   \n",
      "8913  0.182930  0.183112  0.183768  ...  0.132777  0.116456  0.166635   \n",
      "\n",
      "        tions       tive     tive       tudy     tudy       udy       use   \n",
      "0     0.000000  0.000000  0.000000  0.000000  0.000000  0.000000  0.000000  \n",
      "1     0.000000  0.138605  0.149645  0.000000  0.000000  0.000000  0.000000  \n",
      "2     0.000000  0.187610  0.202554  0.000000  0.000000  0.000000  0.275749  \n",
      "3     0.099165  0.000000  0.000000  0.000000  0.000000  0.000000  0.000000  \n",
      "4     0.143507  0.000000  0.000000  0.000000  0.000000  0.000000  0.134260  \n",
      "...        ...       ...       ...       ...       ...       ...       ...  \n",
      "8909  0.000000  0.216703  0.233964  0.234618  0.236036  0.236036  0.000000  \n",
      "8910  0.000000  0.000000  0.000000  0.000000  0.000000  0.000000  0.000000  \n",
      "8911  0.000000  0.096942  0.104663  0.000000  0.000000  0.000000  0.212164  \n",
      "8912  0.413911  0.000000  0.000000  0.000000  0.000000  0.000000  0.000000  \n",
      "8913  0.174302  0.000000  0.000000  0.178642  0.179722  0.179722  0.098899  \n",
      "\n",
      "[8914 rows x 58 columns]\n"
     ]
    }
   ],
   "source": [
    "print(X_tfidf_crtrain1)"
   ]
  },
  {
   "cell_type": "code",
   "execution_count": 344,
   "metadata": {},
   "outputs": [],
   "source": [
    "from gensim.models import Word2Vec\n",
    "from gensim.scripts.glove2word2vec import glove2word2vec"
   ]
  },
  {
   "cell_type": "code",
   "execution_count": 345,
   "metadata": {},
   "outputs": [],
   "source": [
    "#glove_input_file='C:/D Drive Data/ML/glove/glove.6B.300d.txt'\n",
    "#word2vec_output_file='glove.6B.300d.txt.word2vec'\n",
    "#glove2word2vec(glove_input_file,word2vec_output_file)> (400000,100)\n",
    "#model = gensim.models.KeyedVectors.load_word2vec_format('C:/D Drive Data/ML/glove/glove.6B.300d.txt', binary=True)"
   ]
  },
  {
   "cell_type": "code",
   "execution_count": 346,
   "metadata": {},
   "outputs": [],
   "source": [
    "#from gensim.test.utils import common_texts, get_tmpfile\n",
    "#from gensim.models import Word2Vec"
   ]
  },
  {
   "cell_type": "code",
   "execution_count": 347,
   "metadata": {},
   "outputs": [],
   "source": [
    "#word to vector model\n",
    "#convert the text into sentences\n",
    "#X_train_wvc= [nltk.sent_tokenize(x) for x in X_train]\n",
    "#sentwc=[ntlk.word_tokenize(x)]\n",
    "#df['Abstract_sent'] = [nltk.word_tokenize(x) for x in df['Abstract_sent']]\n",
    "\n",
    "#model = Word2Vec(common_texts, size=100, window=5, min_count=1, workers=4)"
   ]
  },
  {
   "cell_type": "code",
   "execution_count": 348,
   "metadata": {},
   "outputs": [],
   "source": [
    "#model = Word2Vec(X_train_wvc, size=150, window=8, min_count=0)"
   ]
  },
  {
   "cell_type": "code",
   "execution_count": 123,
   "metadata": {},
   "outputs": [],
   "source": [
    "#words = model.wv.index2word\n",
    "#wvs = model.wv[words]\n",
    "\n",
    "\n",
    "#w2v = dict(zip(model.wv.index2word, model.wv.syn0))"
   ]
  },
  {
   "cell_type": "code",
   "execution_count": 151,
   "metadata": {},
   "outputs": [],
   "source": [
    "#vocabulary = model.wv.vocab\n",
    "#v1 = model.wv['syndrome']\n",
    "#sim_words = model.wv.most_similar('syndrome')"
   ]
  },
  {
   "cell_type": "code",
   "execution_count": 112,
   "metadata": {},
   "outputs": [],
   "source": [
    "#X_w2v_crtrain =  model.wv[words]\n",
    "#Y_w2v_crtrain = Y_train\n",
    "#print(X_w2v_crtrain.shape)\n",
    "#X_w2v_crtest = model.transform(X_test).toarray()\n",
    "#Y_w2v_crtest = Y_test\n",
    "#print(X_w2v_crtest.shape)"
   ]
  },
  {
   "cell_type": "code",
   "execution_count": null,
   "metadata": {},
   "outputs": [],
   "source": [
    "#model.save(\"word2vec.model\")\n",
    "#model.save(\"model.bin\")"
   ]
  },
  {
   "cell_type": "markdown",
   "metadata": {},
   "source": [
    "### 4. Features through Topic Modelling"
   ]
  },
  {
   "cell_type": "code",
   "execution_count": 332,
   "metadata": {},
   "outputs": [],
   "source": [
    "from sklearn.feature_extraction.text import CountVectorizer\n",
    "from sklearn.decomposition import LatentDirichletAllocation"
   ]
  },
  {
   "cell_type": "code",
   "execution_count": 333,
   "metadata": {},
   "outputs": [],
   "source": [
    "#topic modelling\n",
    "cvectorizer = CountVectorizer(min_df=2, max_features=4000, ngram_range=(1,10))\n",
    "cvz = cvectorizer.fit_transform(X_train['Abstract_1'])\n",
    "cvz_test= cvectorizer.transform(X_test['Abstract_1'])\n",
    "\n"
   ]
  },
  {
   "cell_type": "code",
   "execution_count": 334,
   "metadata": {},
   "outputs": [],
   "source": [
    "#generate topic models using Latent Dirichlet Allocation\n",
    "lda_model = LatentDirichletAllocation(n_components=25, learning_method='online', max_iter=20, random_state=42)\n",
    "X_topics = lda_model.fit_transform(cvz)"
   ]
  },
  {
   "cell_type": "code",
   "execution_count": 335,
   "metadata": {},
   "outputs": [
    {
     "data": {
      "text/plain": [
       "(8914, 25)"
      ]
     },
     "execution_count": 335,
     "metadata": {},
     "output_type": "execute_result"
    }
   ],
   "source": [
    "X_topics.shape"
   ]
  },
  {
   "cell_type": "code",
   "execution_count": 336,
   "metadata": {},
   "outputs": [],
   "source": [
    "Y_topics = Y_train\n",
    "X_topics_test= lda_model.transform(cvz_test)\n"
   ]
  },
  {
   "cell_type": "code",
   "execution_count": 337,
   "metadata": {},
   "outputs": [
    {
     "data": {
      "text/plain": [
       "(2229, 25)"
      ]
     },
     "execution_count": 337,
     "metadata": {},
     "output_type": "execute_result"
    }
   ],
   "source": [
    "X_topics_test.shape\n"
   ]
  },
  {
   "cell_type": "code",
   "execution_count": 338,
   "metadata": {},
   "outputs": [],
   "source": [
    "#X_topics1 = pd.DataFrame(X_topics, columns=lda_model.get_feature_names())\n",
    "#X_topics_test1 = pd.DataFrame(X_topics_test, columns=lda_model.get_feature_names())\n"
   ]
  },
  {
   "cell_type": "code",
   "execution_count": 339,
   "metadata": {},
   "outputs": [],
   "source": [
    "import numpy as np"
   ]
  },
  {
   "cell_type": "code",
   "execution_count": 340,
   "metadata": {},
   "outputs": [
    {
     "name": "stdout",
     "output_type": "stream",
     "text": [
      "Topic 0: heart | disease | events | congenital | adverse | pediatric | chd | cardiovascular | congenital heart | mortality\n",
      "Topic 1: leave | pulmonary | artery | repair | aortic | right | undergo | coronary | postoperative | ventricular\n",
      "Topic 2: study | effect | use | find | may | side | increase | participants | suggest | individuals\n",
      "Topic 3: reactions | drug | pain | defect | hypersensitivity | adverse | adverse drug | adrs | drug reactions | study\n",
      "Topic 4: disorder | cognitive | parent | examine | psychiatric | stroke | social | cortex | et | functional\n",
      "Topic 5: cardiac | cardiotoxicity | isolate | use | species | strain | assay | dox | show | culture\n",
      "Topic 6: increase | pregnancy | exposure | acid | women | plant | virus | may | growth | fetal\n",
      "Topic 7: image | ad | diagnostic | ct | mri | disease | vitamin | aim | tomography | study\n",
      "Topic 8: use | new | time | result | test | blood | develop | approach | method | high\n",
      "Topic 9: qt | drug | interval | prolongation | qt interval | de | prolong | channel | risk | tdp\n",
      "Topic 10: cleave | bone | palate | lip | surgical | cleave lip | tissue | dental | head | nasal\n",
      "Topic 11: liver | injury | liver injury | level | group | effect | hepatic | increase | rat | hepatotoxicity\n",
      "Topic 12: use | study | review | research | data | provide | species | also | different | potential\n",
      "Topic 13: genetic | genes | gene | syndrome | sequence | identify | mutations | variants | study | show\n",
      "Topic 14: drug | use | risk | clinical | factor | practice | information | data | medication | identify\n",
      "Topic 15: risk | ci | higher | associate | use | compare | vs | ipi | study | significantly\n",
      "Topic 16: skin | adverse | inhibitors | immune | drug | cutaneous | events | reactions | treatment | adverse events\n",
      "Topic 17: health | care | among | alcohol | hiv | men | service | sexual | sex | use\n",
      "Topic 18: patients | study | treatment | group | compare | use | aim | evaluate | clinical | assess\n",
      "Topic 19: model | toxicity | test | development | predict | human | animal | prediction | safety | vitro\n",
      "Topic 20: covid | respiratory | sarscov | disease | coronavirus | pandemic | behaviors | network | performance | learn\n",
      "Topic 21: brain | allergy | system | cd | eye | tumors | central | pd | peripheral | receptors\n",
      "Topic 22: case | patients | report | treatment | cancer | patient | present | clinical | disease | diagnosis\n",
      "Topic 23: face | children | age | otherrace | diabetes | process | otherrace face | facial | recognition | infants\n",
      "Topic 24: cells | cell | expression | role | signal | target | protein | mechanisms | function | mice\n"
     ]
    }
   ],
   "source": [
    "topic_summaries = []\n",
    "n_top_words = 10\n",
    "\n",
    "\n",
    "# get topics and topic terms\n",
    "topic_word = lda_model.components_ \n",
    "vocab = cvectorizer.get_feature_names()\n",
    "\n",
    "for i, topic_dist in enumerate(topic_word):\n",
    "    topic_words = np.array(vocab)[np.argsort(topic_dist)][:-(n_top_words+1):-1]\n",
    "    topic_summaries.append(' '.join(topic_words))\n",
    "    print('Topic {}: {}'.format(i, ' | '.join(topic_words)))"
   ]
  },
  {
   "cell_type": "code",
   "execution_count": 341,
   "metadata": {},
   "outputs": [],
   "source": [
    "X_topics=pd.DataFrame(X_topics)\n",
    "X_topics=X_topics.rename(columns=lambda x:\"topicmodel_\"+str(x))\n",
    "\n",
    "X_topics_test=pd.DataFrame(X_topics_test)\n",
    "X_topics_test=X_topics_test.rename(columns=lambda x:\"topicmodel_\"+str(x))"
   ]
  },
  {
   "cell_type": "code",
   "execution_count": 342,
   "metadata": {},
   "outputs": [
    {
     "data": {
      "text/plain": [
       "(8914, 43)"
      ]
     },
     "execution_count": 342,
     "metadata": {},
     "output_type": "execute_result"
    }
   ],
   "source": [
    "X_tfidf_train.shape"
   ]
  },
  {
   "cell_type": "code",
   "execution_count": 343,
   "metadata": {},
   "outputs": [
    {
     "data": {
      "text/plain": [
       "(8914, 25)"
      ]
     },
     "execution_count": 343,
     "metadata": {},
     "output_type": "execute_result"
    }
   ],
   "source": [
    "X_topics.shape"
   ]
  },
  {
   "cell_type": "code",
   "execution_count": 344,
   "metadata": {},
   "outputs": [
    {
     "data": {
      "text/plain": [
       "Index(['Abstract_1', 'char_count', 'num_unique_words', 'polarity',\n",
       "       'punctuation_count', 'subjectivity', 'total_length',\n",
       "       'uniq_per_tot_words', 'word_count', 'word_density'],\n",
       "      dtype='object')"
      ]
     },
     "execution_count": 344,
     "metadata": {},
     "output_type": "execute_result"
    }
   ],
   "source": [
    "X_train.columns"
   ]
  },
  {
   "cell_type": "code",
   "execution_count": 345,
   "metadata": {},
   "outputs": [
    {
     "data": {
      "text/plain": [
       "(8914, 10)"
      ]
     },
     "execution_count": 345,
     "metadata": {},
     "output_type": "execute_result"
    }
   ],
   "source": [
    "X_train.shape"
   ]
  },
  {
   "cell_type": "code",
   "execution_count": 346,
   "metadata": {},
   "outputs": [
    {
     "data": {
      "text/plain": [
       "35656"
      ]
     },
     "execution_count": 346,
     "metadata": {},
     "output_type": "execute_result"
    }
   ],
   "source": [
    "8914*4"
   ]
  },
  {
   "cell_type": "code",
   "execution_count": 347,
   "metadata": {},
   "outputs": [],
   "source": [
    "#comibing all the features\n",
    "\n",
    "#tfidf+topicmodelling\n",
    "#X_train=pd.DataFrame(X_train)\n",
    "#X_test=pd.DataFrame(X_test)\n",
    "\n",
    "X_train_final=pd.concat([X_tfidf_train1,X_tfidf_crtrain1,X_topics],axis=1)\n",
    "X_test_final=pd.concat([X_tfidf_test1,X_tfidf_crtest1,X_topics_test],axis=1)\n"
   ]
  },
  {
   "cell_type": "code",
   "execution_count": 348,
   "metadata": {},
   "outputs": [
    {
     "data": {
      "text/plain": [
       "(8914, 126)"
      ]
     },
     "execution_count": 348,
     "metadata": {},
     "output_type": "execute_result"
    }
   ],
   "source": [
    "X_train_final.shape"
   ]
  },
  {
   "cell_type": "code",
   "execution_count": 349,
   "metadata": {},
   "outputs": [
    {
     "data": {
      "text/html": [
       "<div>\n",
       "<style scoped>\n",
       "    .dataframe tbody tr th:only-of-type {\n",
       "        vertical-align: middle;\n",
       "    }\n",
       "\n",
       "    .dataframe tbody tr th {\n",
       "        vertical-align: top;\n",
       "    }\n",
       "\n",
       "    .dataframe thead th {\n",
       "        text-align: right;\n",
       "    }\n",
       "</style>\n",
       "<table border=\"1\" class=\"dataframe\">\n",
       "  <thead>\n",
       "    <tr style=\"text-align: right;\">\n",
       "      <th></th>\n",
       "      <th>adverse</th>\n",
       "      <th>aim</th>\n",
       "      <th>also</th>\n",
       "      <th>among</th>\n",
       "      <th>assess</th>\n",
       "      <th>associate</th>\n",
       "      <th>case</th>\n",
       "      <th>cause</th>\n",
       "      <th>clinical</th>\n",
       "      <th>compare</th>\n",
       "      <th>...</th>\n",
       "      <th>topicmodel_15</th>\n",
       "      <th>topicmodel_16</th>\n",
       "      <th>topicmodel_17</th>\n",
       "      <th>topicmodel_18</th>\n",
       "      <th>topicmodel_19</th>\n",
       "      <th>topicmodel_20</th>\n",
       "      <th>topicmodel_21</th>\n",
       "      <th>topicmodel_22</th>\n",
       "      <th>topicmodel_23</th>\n",
       "      <th>topicmodel_24</th>\n",
       "    </tr>\n",
       "  </thead>\n",
       "  <tbody>\n",
       "    <tr>\n",
       "      <th>0</th>\n",
       "      <td>0.000000</td>\n",
       "      <td>0.0</td>\n",
       "      <td>0.000000</td>\n",
       "      <td>0.000000</td>\n",
       "      <td>0.0</td>\n",
       "      <td>0.0</td>\n",
       "      <td>0.356225</td>\n",
       "      <td>0.0</td>\n",
       "      <td>0.323379</td>\n",
       "      <td>0.0</td>\n",
       "      <td>...</td>\n",
       "      <td>0.001143</td>\n",
       "      <td>0.001143</td>\n",
       "      <td>0.001143</td>\n",
       "      <td>0.001143</td>\n",
       "      <td>0.001143</td>\n",
       "      <td>0.001143</td>\n",
       "      <td>0.001143</td>\n",
       "      <td>0.729150</td>\n",
       "      <td>0.001143</td>\n",
       "      <td>0.001143</td>\n",
       "    </tr>\n",
       "    <tr>\n",
       "      <th>1</th>\n",
       "      <td>0.000000</td>\n",
       "      <td>0.0</td>\n",
       "      <td>0.375302</td>\n",
       "      <td>0.000000</td>\n",
       "      <td>0.0</td>\n",
       "      <td>0.0</td>\n",
       "      <td>0.000000</td>\n",
       "      <td>0.0</td>\n",
       "      <td>0.000000</td>\n",
       "      <td>0.0</td>\n",
       "      <td>...</td>\n",
       "      <td>0.000476</td>\n",
       "      <td>0.000476</td>\n",
       "      <td>0.000476</td>\n",
       "      <td>0.000476</td>\n",
       "      <td>0.000476</td>\n",
       "      <td>0.000476</td>\n",
       "      <td>0.000476</td>\n",
       "      <td>0.233322</td>\n",
       "      <td>0.000476</td>\n",
       "      <td>0.363693</td>\n",
       "    </tr>\n",
       "    <tr>\n",
       "      <th>2</th>\n",
       "      <td>0.000000</td>\n",
       "      <td>0.0</td>\n",
       "      <td>0.000000</td>\n",
       "      <td>0.000000</td>\n",
       "      <td>0.0</td>\n",
       "      <td>0.0</td>\n",
       "      <td>0.376762</td>\n",
       "      <td>0.0</td>\n",
       "      <td>0.000000</td>\n",
       "      <td>0.0</td>\n",
       "      <td>...</td>\n",
       "      <td>0.000404</td>\n",
       "      <td>0.000404</td>\n",
       "      <td>0.041900</td>\n",
       "      <td>0.060905</td>\n",
       "      <td>0.107910</td>\n",
       "      <td>0.000404</td>\n",
       "      <td>0.000404</td>\n",
       "      <td>0.000404</td>\n",
       "      <td>0.000404</td>\n",
       "      <td>0.000404</td>\n",
       "    </tr>\n",
       "    <tr>\n",
       "      <th>3</th>\n",
       "      <td>0.000000</td>\n",
       "      <td>0.0</td>\n",
       "      <td>0.000000</td>\n",
       "      <td>0.433188</td>\n",
       "      <td>0.0</td>\n",
       "      <td>0.0</td>\n",
       "      <td>0.000000</td>\n",
       "      <td>0.0</td>\n",
       "      <td>0.000000</td>\n",
       "      <td>0.0</td>\n",
       "      <td>...</td>\n",
       "      <td>0.127920</td>\n",
       "      <td>0.000348</td>\n",
       "      <td>0.000348</td>\n",
       "      <td>0.000348</td>\n",
       "      <td>0.015594</td>\n",
       "      <td>0.000348</td>\n",
       "      <td>0.000348</td>\n",
       "      <td>0.000348</td>\n",
       "      <td>0.000348</td>\n",
       "      <td>0.326570</td>\n",
       "    </tr>\n",
       "    <tr>\n",
       "      <th>4</th>\n",
       "      <td>0.339589</td>\n",
       "      <td>0.0</td>\n",
       "      <td>0.000000</td>\n",
       "      <td>0.000000</td>\n",
       "      <td>0.0</td>\n",
       "      <td>0.0</td>\n",
       "      <td>0.000000</td>\n",
       "      <td>0.0</td>\n",
       "      <td>0.477357</td>\n",
       "      <td>0.0</td>\n",
       "      <td>...</td>\n",
       "      <td>0.000769</td>\n",
       "      <td>0.000769</td>\n",
       "      <td>0.000769</td>\n",
       "      <td>0.000769</td>\n",
       "      <td>0.000769</td>\n",
       "      <td>0.000769</td>\n",
       "      <td>0.277582</td>\n",
       "      <td>0.000769</td>\n",
       "      <td>0.000769</td>\n",
       "      <td>0.000769</td>\n",
       "    </tr>\n",
       "  </tbody>\n",
       "</table>\n",
       "<p>5 rows × 126 columns</p>\n",
       "</div>"
      ],
      "text/plain": [
       "    adverse  aim      also     among  assess  associate      case  cause  \\\n",
       "0  0.000000  0.0  0.000000  0.000000     0.0        0.0  0.356225    0.0   \n",
       "1  0.000000  0.0  0.375302  0.000000     0.0        0.0  0.000000    0.0   \n",
       "2  0.000000  0.0  0.000000  0.000000     0.0        0.0  0.376762    0.0   \n",
       "3  0.000000  0.0  0.000000  0.433188     0.0        0.0  0.000000    0.0   \n",
       "4  0.339589  0.0  0.000000  0.000000     0.0        0.0  0.000000    0.0   \n",
       "\n",
       "   clinical  compare  ...  topicmodel_15  topicmodel_16  topicmodel_17  \\\n",
       "0  0.323379      0.0  ...       0.001143       0.001143       0.001143   \n",
       "1  0.000000      0.0  ...       0.000476       0.000476       0.000476   \n",
       "2  0.000000      0.0  ...       0.000404       0.000404       0.041900   \n",
       "3  0.000000      0.0  ...       0.127920       0.000348       0.000348   \n",
       "4  0.477357      0.0  ...       0.000769       0.000769       0.000769   \n",
       "\n",
       "   topicmodel_18  topicmodel_19  topicmodel_20  topicmodel_21  topicmodel_22  \\\n",
       "0       0.001143       0.001143       0.001143       0.001143       0.729150   \n",
       "1       0.000476       0.000476       0.000476       0.000476       0.233322   \n",
       "2       0.060905       0.107910       0.000404       0.000404       0.000404   \n",
       "3       0.000348       0.015594       0.000348       0.000348       0.000348   \n",
       "4       0.000769       0.000769       0.000769       0.277582       0.000769   \n",
       "\n",
       "   topicmodel_23  topicmodel_24  \n",
       "0       0.001143       0.001143  \n",
       "1       0.000476       0.363693  \n",
       "2       0.000404       0.000404  \n",
       "3       0.000348       0.326570  \n",
       "4       0.000769       0.000769  \n",
       "\n",
       "[5 rows x 126 columns]"
      ]
     },
     "execution_count": 349,
     "metadata": {},
     "output_type": "execute_result"
    }
   ],
   "source": [
    "X_train_final.head()"
   ]
  },
  {
   "cell_type": "code",
   "execution_count": 350,
   "metadata": {},
   "outputs": [],
   "source": [
    "X_train_final.reset_index(drop=True, inplace=True)\n",
    "X_train.reset_index(drop=True, inplace=True)\n",
    "Y_train.reset_index(drop=True, inplace=True)\n"
   ]
  },
  {
   "cell_type": "code",
   "execution_count": 351,
   "metadata": {},
   "outputs": [],
   "source": [
    "X_test_final.reset_index(drop=True, inplace=True)\n",
    "X_test.reset_index(drop=True, inplace=True)\n",
    "Y_test.reset_index(drop=True, inplace=True)"
   ]
  },
  {
   "cell_type": "code",
   "execution_count": 352,
   "metadata": {},
   "outputs": [
    {
     "data": {
      "text/plain": [
       "(8914, 137)"
      ]
     },
     "execution_count": 352,
     "metadata": {},
     "output_type": "execute_result"
    }
   ],
   "source": [
    "X_train_final1=pd.concat([X_train,Y_train,X_train_final],axis=1)\n",
    "X_train_final1.shape"
   ]
  },
  {
   "cell_type": "code",
   "execution_count": 353,
   "metadata": {},
   "outputs": [
    {
     "data": {
      "text/plain": [
       "(2229, 137)"
      ]
     },
     "execution_count": 353,
     "metadata": {},
     "output_type": "execute_result"
    }
   ],
   "source": [
    "X_test_final1=pd.concat([X_test,Y_test,X_test_final],axis=1)\n",
    "X_test_final1.shape"
   ]
  },
  {
   "cell_type": "code",
   "execution_count": 355,
   "metadata": {},
   "outputs": [],
   "source": [
    "from pandas.api.types import is_string_dtype\n",
    "from pandas.api.types import is_numeric_dtype\n",
    "from pandas.api.types import is_datetime64_dtype\n",
    "X_test_final_cje=X_test_final1.apply(lambda x: x.fillna(x.mean()) if bool(is_string_dtype(x))==False and x.isnull().bool else x.fillna(x.value_counts().index[0]) if bool(is_string_dtype(x))==True and x.isnull().bool else x)\n",
    "X_test_final_cje=X_test_final_cje.iloc[:,1:]\n"
   ]
  },
  {
   "cell_type": "code",
   "execution_count": 356,
   "metadata": {},
   "outputs": [],
   "source": [
    "X_train_final_cje=X_train_final1.apply(lambda x: x.fillna(x.mean()) if bool(is_string_dtype(x))==False and x.isnull().bool else x.fillna(x.value_counts().index[0]) if bool(is_string_dtype(x))==True and x.isnull().bool else x)\n",
    "X_train_final_cje=X_train_final_cje.iloc[:,1:]\n"
   ]
  },
  {
   "cell_type": "code",
   "execution_count": 362,
   "metadata": {},
   "outputs": [],
   "source": [
    "X_train_final_cje_feature=X_train_final_cje.drop(['Target_Code'],axis=1)\n",
    "Y_target=X_train_final_cje['Target_Code']"
   ]
  },
  {
   "cell_type": "code",
   "execution_count": 363,
   "metadata": {},
   "outputs": [],
   "source": [
    "X_test_final_cje_feature=X_test_final_cje.drop(['Target_Code'],axis=1)\n",
    "Y_target_test=X_test_final_cje['Target_Code']"
   ]
  },
  {
   "cell_type": "markdown",
   "metadata": {},
   "source": [
    "### 5. Standardizing the data for SVD and PCA Feature Reduction"
   ]
  },
  {
   "cell_type": "code",
   "execution_count": 364,
   "metadata": {},
   "outputs": [],
   "source": [
    "from sklearn.preprocessing import StandardScaler\n",
    "\n"
   ]
  },
  {
   "cell_type": "code",
   "execution_count": 365,
   "metadata": {},
   "outputs": [],
   "source": [
    "sc = StandardScaler()\n",
    "X = sc.fit_transform(X_train_final_cje_feature)"
   ]
  },
  {
   "cell_type": "code",
   "execution_count": 366,
   "metadata": {},
   "outputs": [],
   "source": [
    "X_test= sc.fit_transform(X_test_final_cje_feature)"
   ]
  },
  {
   "cell_type": "code",
   "execution_count": 367,
   "metadata": {},
   "outputs": [],
   "source": [
    "from sklearn.decomposition import PCA\n",
    "\n",
    "pca = PCA(n_components=80, random_state=0)"
   ]
  },
  {
   "cell_type": "code",
   "execution_count": 368,
   "metadata": {},
   "outputs": [],
   "source": [
    "#X = pca.fit_transform(X)"
   ]
  },
  {
   "cell_type": "code",
   "execution_count": 382,
   "metadata": {},
   "outputs": [],
   "source": [
    "#explained_variance = np.cumsum(pca.explained_variance_ratio_)"
   ]
  },
  {
   "cell_type": "code",
   "execution_count": 370,
   "metadata": {},
   "outputs": [
    {
     "data": {
      "text/plain": [
       "Text(0, 0.5, 'Cumulative  SUM')"
      ]
     },
     "execution_count": 370,
     "metadata": {},
     "output_type": "execute_result"
    },
    {
     "data": {
      "image/png": "[encoded data removed]",
      "text/plain": [
       "<Figure size 432x288 with 1 Axes>"
      ]
     },
     "metadata": {
      "needs_background": "light"
     },
     "output_type": "display_data"
    }
   ],
   "source": [
    "plt.plot(explained_variance)\n",
    "plt.title(\"PCA:Cumulative Explained Variance\")\n",
    "plt.xlabel(\"Components\")\n",
    "plt.ylabel(\"Cumulative  SUM\")"
   ]
  },
  {
   "cell_type": "code",
   "execution_count": 372,
   "metadata": {},
   "outputs": [],
   "source": [
    "#plt.plot(range(80), pca.explained_variance_ratio_)\n",
    "#plt.plot(range(80), np.cumsum(pca.explained_variance_ratio_))\n",
    "#plt.title(\"Component-wise and Cumulative Explained Variance\")"
   ]
  },
  {
   "cell_type": "code",
   "execution_count": 373,
   "metadata": {},
   "outputs": [],
   "source": [
    "from sklearn.decomposition import TruncatedSVD \n",
    "svd = TruncatedSVD(n_components=80, random_state=42)"
   ]
  },
  {
   "cell_type": "code",
   "execution_count": 374,
   "metadata": {},
   "outputs": [],
   "source": [
    "pca.fit(X)\n",
    "X_pca=pca.transform(X)"
   ]
  },
  {
   "cell_type": "code",
   "execution_count": 375,
   "metadata": {},
   "outputs": [],
   "source": [
    "svd.fit(X)\n",
    "X_svd=svd.fit_transform(X)\n"
   ]
  },
  {
   "cell_type": "code",
   "execution_count": 376,
   "metadata": {},
   "outputs": [],
   "source": [
    "\n",
    "#testing data\n",
    "\n",
    "X_svd_test=svd.fit_transform(X_test)"
   ]
  },
  {
   "cell_type": "code",
   "execution_count": 377,
   "metadata": {},
   "outputs": [
    {
     "data": {
      "text/plain": [
       "<matplotlib.collections.PathCollection at 0x1f8d25a9788>"
      ]
     },
     "execution_count": 377,
     "metadata": {},
     "output_type": "execute_result"
    },
    {
     "data": {
      "image/png": "[encoded data removed]",
      "text/plain": [
       "<Figure size 864x576 with 1 Axes>"
      ]
     },
     "metadata": {
      "needs_background": "light"
     },
     "output_type": "display_data"
    }
   ],
   "source": [
    "plt.figure(figsize=(12,8))\n",
    "plt.title('SVD Components')\n",
    "plt.scatter(X_svd[:,0], X_svd[:,1])\n",
    "plt.scatter(X_svd[:,1], X_svd[:,2])\n",
    "plt.scatter(X_svd[:,2],X_svd[:,0])"
   ]
  },
  {
   "cell_type": "code",
   "execution_count": 378,
   "metadata": {},
   "outputs": [],
   "source": [
    "from sklearn.manifold import TSNE \n",
    "tsne = TSNE(n_components=3, n_iter=300).fit_transform(X_train_final_cje_feature.values)"
   ]
  },
  {
   "cell_type": "code",
   "execution_count": 3,
   "metadata": {},
   "outputs": [],
   "source": [
    "#plt.figure(figsize=(12,8))\n",
    "#plt.title('t-SNE components')\n",
    "#plt.scatter(tsne[:,0], tsne[:,1])\n",
    "#plt.scatter(tsne[:,1], tsne[:,2])\n",
    "#plt.scatter(tsne[:,2], tsne[:,0])"
   ]
  },
  {
   "cell_type": "markdown",
   "metadata": {},
   "source": [
    "### 5. Model Building through Random Forest Classifier "
   ]
  },
  {
   "cell_type": "code",
   "execution_count": 234,
   "metadata": {},
   "outputs": [
    {
     "name": "stdout",
     "output_type": "stream",
     "text": [
      "{'n_estimators': [200, 400, 600, 800, 1000], 'max_features': ['auto', 'sqrt'], 'max_depth': [10, 32, 55, 77, 100, None], 'min_samples_split': [2, 5, 10], 'min_samples_leaf': [1, 2, 4], 'bootstrap': [True, False]}\n"
     ]
    }
   ],
   "source": [
    "# n_estimators\n",
    "n_estimators = [int(x) for x in np.linspace(start = 200, stop = 1000, num = 5)]\n",
    "\n",
    "# max_features\n",
    "max_features = ['auto', 'sqrt']\n",
    "\n",
    "# max_depth\n",
    "max_depth = [int(x) for x in np.linspace(10, 100, num = 5)]\n",
    "max_depth.append(None)\n",
    "\n",
    "# min_samples_split\n",
    "min_samples_split = [2, 5, 10]\n",
    "\n",
    "# min_samples_leaf\n",
    "min_samples_leaf = [1, 2, 4]\n",
    "\n",
    "# bootstrap\n",
    "bootstrap = [True, False]\n",
    "\n",
    "# Create the random grid\n",
    "random_grid = {'n_estimators': n_estimators,\n",
    "               'max_features': max_features,\n",
    "               'max_depth': max_depth,\n",
    "               'min_samples_split': min_samples_split,\n",
    "               'min_samples_leaf': min_samples_leaf,\n",
    "               'bootstrap': bootstrap}\n",
    "\n",
    "print(random_grid)\n"
   ]
  },
  {
   "cell_type": "code",
   "execution_count": 236,
   "metadata": {},
   "outputs": [],
   "source": [
    "from sklearn.ensemble import RandomForestClassifier\n",
    "from sklearn.model_selection import RandomizedSearchCV\n"
   ]
  },
  {
   "cell_type": "code",
   "execution_count": 238,
   "metadata": {},
   "outputs": [
    {
     "name": "stdout",
     "output_type": "stream",
     "text": [
      "Fitting 3 folds for each of 50 candidates, totalling 150 fits\n"
     ]
    },
    {
     "name": "stderr",
     "output_type": "stream",
     "text": [
      "C:\\Users\\Shikha.roy\\Anaconda3\\lib\\site-packages\\sklearn\\model_selection\\_search.py:921: UserWarning: One or more of the test scores are non-finite: [nan nan nan nan nan nan nan nan nan nan nan nan nan nan nan nan nan nan\n",
      " nan nan nan nan nan nan nan nan nan nan nan nan nan nan nan nan nan nan\n",
      " nan nan nan nan nan nan nan nan nan nan nan nan nan nan]\n",
      "  category=UserWarning\n"
     ]
    },
    {
     "data": {
      "text/plain": [
       "RandomizedSearchCV(cv=3, estimator=RandomForestClassifier(random_state=8),\n",
       "                   n_iter=50, n_jobs=-1,\n",
       "                   param_distributions={'bootstrap': [True, False],\n",
       "                                        'max_depth': [10, 32, 55, 77, 100,\n",
       "                                                      None],\n",
       "                                        'max_features': ['auto', 'sqrt'],\n",
       "                                        'min_samples_leaf': [1, 2, 4],\n",
       "                                        'min_samples_split': [2, 5, 10],\n",
       "                                        'n_estimators': [200, 400, 600, 800,\n",
       "                                                         1000]},\n",
       "                   random_state=8, scoring='f1', verbose=1)"
      ]
     },
     "execution_count": 238,
     "metadata": {},
     "output_type": "execute_result"
    }
   ],
   "source": [
    "# First create the base model to tune\n",
    "rfc = RandomForestClassifier(random_state=8)\n",
    "\n",
    "# Definition of the random search\n",
    "random_search = RandomizedSearchCV(estimator=rfc,\n",
    "                                   param_distributions=random_grid,\n",
    "                                   n_iter=50,\n",
    "                                   scoring='f1',\n",
    "                                   cv=3, n_jobs=-1,\n",
    "                                   verbose=1, \n",
    "                                   random_state=8)\n",
    "\n",
    "# Fit the random search model\n",
    "random_search.fit(X_svd, Y_target)"
   ]
  },
  {
   "cell_type": "code",
   "execution_count": 239,
   "metadata": {},
   "outputs": [
    {
     "name": "stdout",
     "output_type": "stream",
     "text": [
      "The best hyperparameters from Random Search are:\n",
      "{'n_estimators': 400, 'min_samples_split': 5, 'min_samples_leaf': 1, 'max_features': 'sqrt', 'max_depth': 10, 'bootstrap': True}\n",
      "\n",
      "The mean accuracy of a model with these hyperparameters is:\n",
      "nan\n"
     ]
    }
   ],
   "source": [
    "\n",
    "print(\"The best hyperparameters from Random Search are:\")\n",
    "print(random_search.best_params_)\n",
    "print(\"\")\n",
    "print(\"The mean accuracy of a model with these hyperparameters is:\")\n",
    "print(random_search.best_score_)"
   ]
  },
  {
   "cell_type": "code",
   "execution_count": 241,
   "metadata": {},
   "outputs": [
    {
     "name": "stdout",
     "output_type": "stream",
     "text": [
      "0.8827686784832848\n"
     ]
    }
   ],
   "source": [
    "random_search1=random_search.best_estimator_\n",
    "score= random_search1.score(X_svd, Y_target)\n",
    "print(score)"
   ]
  },
  {
   "cell_type": "code",
   "execution_count": 243,
   "metadata": {},
   "outputs": [],
   "source": [
    "import pickle\n",
    "filename = 'Model_best_randomsearch.sav'\n",
    "pickle.dump(random_search1, open(filename, 'wb'))"
   ]
  },
  {
   "cell_type": "code",
   "execution_count": 245,
   "metadata": {},
   "outputs": [
    {
     "data": {
      "text/plain": [
       "Other    0.358201\n",
       "DR       0.293807\n",
       "CA       0.282814\n",
       "Both     0.065178\n",
       "Name: Target, dtype: float64"
      ]
     },
     "execution_count": 245,
     "metadata": {},
     "output_type": "execute_result"
    }
   ],
   "source": [
    "Y_target.value_counts()/sum(Y_target.value_counts())"
   ]
  },
  {
   "cell_type": "code",
   "execution_count": 246,
   "metadata": {},
   "outputs": [
    {
     "data": {
      "text/plain": [
       "Other    0.000313\n",
       "DR       0.000382\n",
       "CA       0.000397\n",
       "Both     0.001721\n",
       "Name: Target, dtype: float64"
      ]
     },
     "execution_count": 246,
     "metadata": {},
     "output_type": "execute_result"
    }
   ],
   "source": [
    "1/Y_target.value_counts()"
   ]
  },
  {
   "cell_type": "markdown",
   "metadata": {},
   "source": [
    "### 6. Grid Search & Cross Validation"
   ]
  },
  {
   "cell_type": "code",
   "execution_count": 384,
   "metadata": {},
   "outputs": [
    {
     "name": "stdout",
     "output_type": "stream",
     "text": [
      "Fitting 5 folds for each of 1 candidates, totalling 5 fits\n"
     ]
    },
    {
     "data": {
      "text/plain": [
       "GridSearchCV(cv=5, estimator=RandomForestClassifier(), n_jobs=-1,\n",
       "             param_grid={'class_weight': [{0: 0.000382, 1: 0.000397,\n",
       "                                           2: 0.001721, 3: 0.000313}],\n",
       "                         'max_depth': [10], 'max_features': ['sqrt'],\n",
       "                         'min_samples_leaf': [2], 'min_samples_split': [5],\n",
       "                         'n_estimators': [1000], 'oob_score': [True]},\n",
       "             verbose=2)"
      ]
     },
     "execution_count": 384,
     "metadata": {},
     "output_type": "execute_result"
    }
   ],
   "source": [
    "\n",
    "class_weight=[{0:0.000382,1:0.000397,2:0.001721,3:0.000313}]\n",
    "#class_weight=[{0:0.000382,1:0.000397,2:0.001721,3:0.000313},{0:1,1:1,2:3,3:1}]\n",
    "\n",
    "# Number of trees in random forest\n",
    "#n_estimators = [int(x) for x in np.linspace(start = 400, stop = 2000, num = 4)]\n",
    "n_estimators=[1000]\n",
    "# Number of features to consider at every split\n",
    "max_features = ['sqrt']\n",
    "#max_features = [20, 'sqrt']\n",
    "# Maximum number of levels in tree\n",
    "#max_depth = [int(x) for x in np.linspace(10, 100, num = 10)]\n",
    "#max_depth.append(None)\n",
    "max_depth=[10]\n",
    "\n",
    "# Minimum number of samples required to split a node\n",
    "min_samples_split = [5]\n",
    "#min_samples_split = [10]\n",
    "# Minimum number of samples required at each leaf node\n",
    "min_samples_leaf = [2]\n",
    "#min_samples_leaf= [5,10,15]\n",
    "# Method of selecting samples for training each tree\n",
    "#bootstrap = [True, False]\n",
    "#n_jobs= -1, \n",
    "oob_score= [True]\n",
    "from sklearn.model_selection import GridSearchCV \n",
    "param_grid = {'n_estimators': n_estimators,\n",
    "               'max_features': max_features,\n",
    "               'max_depth': max_depth,\n",
    "               'min_samples_split': min_samples_split,\n",
    "               'min_samples_leaf': min_samples_leaf,\n",
    "             'oob_score':oob_score,\n",
    "             'class_weight':class_weight}\n",
    "\n",
    "\n",
    "# Create a based model\n",
    "rf = RandomForestClassifier()\n",
    "# Instantiate the grid search model\n",
    "grid_search = GridSearchCV(estimator = rf, param_grid = param_grid, cv = 5, n_jobs = -1, verbose = 2)\n",
    "grid_search.fit(X_svd, Y_target)\n"
   ]
  },
  {
   "cell_type": "code",
   "execution_count": null,
   "metadata": {},
   "outputs": [],
   "source": []
  },
  {
   "cell_type": "code",
   "execution_count": 385,
   "metadata": {},
   "outputs": [],
   "source": [
    "best_RF = grid_search.best_estimator_\n",
    "import pickle\n",
    "filename = 'Model_best_RF2.sav'\n",
    "pickle.dump(best_RF, open(filename, 'wb'))\n",
    "RF_model_final = pickle.load(open(filename, 'rb'))"
   ]
  },
  {
   "cell_type": "code",
   "execution_count": 386,
   "metadata": {},
   "outputs": [
    {
     "name": "stdout",
     "output_type": "stream",
     "text": [
      "The best hyperparameters from Grid Search are:\n",
      "{'class_weight': {0: 0.000382, 1: 0.000397, 2: 0.001721, 3: 0.000313}, 'max_depth': 10, 'max_features': 'sqrt', 'min_samples_leaf': 2, 'min_samples_split': 5, 'n_estimators': 1000, 'oob_score': True}\n",
      "\n",
      "The mean accuracy of a model with these hyperparameters is:\n",
      "0.6967682684639124\n"
     ]
    }
   ],
   "source": [
    "\n",
    "print(\"The best hyperparameters from Grid Search are:\")\n",
    "print(grid_search.best_params_)\n",
    "print(\"\")\n",
    "print(\"The mean accuracy of a model with these hyperparameters is:\")\n",
    "print(grid_search.best_score_)"
   ]
  },
  {
   "cell_type": "code",
   "execution_count": 387,
   "metadata": {},
   "outputs": [
    {
     "data": {
      "text/plain": [
       "RandomForestClassifier(class_weight={0: 0.000382, 1: 0.000397, 2: 0.001721,\n",
       "                                     3: 0.000313},\n",
       "                       max_depth=10, max_features='sqrt', min_samples_leaf=2,\n",
       "                       min_samples_split=5, n_estimators=1000, oob_score=True)"
      ]
     },
     "execution_count": 387,
     "metadata": {},
     "output_type": "execute_result"
    }
   ],
   "source": [
    "best_rfc = grid_search.best_estimator_\n",
    "best_rfc"
   ]
  },
  {
   "cell_type": "code",
   "execution_count": 388,
   "metadata": {},
   "outputs": [
    {
     "name": "stdout",
     "output_type": "stream",
     "text": [
      "0.9233789544536684\n"
     ]
    }
   ],
   "source": [
    "score= best_rfc.score(X_svd, Y_target)\n",
    "print(score)"
   ]
  },
  {
   "cell_type": "code",
   "execution_count": 389,
   "metadata": {},
   "outputs": [],
   "source": [
    "best_rfc.fit(X_svd, Y_target)\n",
    "\n",
    "rfc_pred = best_rfc.predict(X_svd)"
   ]
  },
  {
   "cell_type": "code",
   "execution_count": 390,
   "metadata": {},
   "outputs": [],
   "source": [
    "rfc_pred_test = best_rfc.predict(X_svd_test)"
   ]
  },
  {
   "cell_type": "markdown",
   "metadata": {},
   "source": [
    "### 7. Accuracy and Confusion Matrix"
   ]
  },
  {
   "cell_type": "code",
   "execution_count": 391,
   "metadata": {},
   "outputs": [
    {
     "name": "stdout",
     "output_type": "stream",
     "text": [
      "The training accuracy is: \n",
      "0.9232667713708773\n"
     ]
    }
   ],
   "source": [
    "from sklearn.metrics import classification_report, confusion_matrix, accuracy_score\n",
    "\n",
    "print(\"The training accuracy is: \")\n",
    "print(accuracy_score(Y_target, best_rfc.predict(X_svd)))"
   ]
  },
  {
   "cell_type": "code",
   "execution_count": 392,
   "metadata": {},
   "outputs": [],
   "source": [
    "score= best_rfc.score(X_svd, Y_target)\n",
    "score_test= best_rfc.score(X_svd_test, Y_target_test)"
   ]
  },
  {
   "cell_type": "code",
   "execution_count": 393,
   "metadata": {},
   "outputs": [
    {
     "data": {
      "text/plain": [
       "0.9232667713708773"
      ]
     },
     "execution_count": 393,
     "metadata": {},
     "output_type": "execute_result"
    }
   ],
   "source": [
    "score"
   ]
  },
  {
   "cell_type": "code",
   "execution_count": 394,
   "metadata": {},
   "outputs": [
    {
     "data": {
      "text/plain": [
       "0.5711081202332885"
      ]
     },
     "execution_count": 394,
     "metadata": {},
     "output_type": "execute_result"
    }
   ],
   "source": [
    "score_test"
   ]
  },
  {
   "cell_type": "code",
   "execution_count": 395,
   "metadata": {},
   "outputs": [],
   "source": [
    "from sklearn import metrics "
   ]
  },
  {
   "cell_type": "code",
   "execution_count": 396,
   "metadata": {},
   "outputs": [
    {
     "name": "stdout",
     "output_type": "stream",
     "text": [
      "              precision    recall  f1-score   support\n",
      "\n",
      "           0       0.60      0.65      0.62       667\n",
      "           1       0.56      0.49      0.52       627\n",
      "           2       0.25      0.01      0.01       142\n",
      "           3       0.56      0.67      0.61       793\n",
      "\n",
      "    accuracy                           0.57      2229\n",
      "   macro avg       0.49      0.45      0.44      2229\n",
      "weighted avg       0.55      0.57      0.55      2229\n",
      "\n"
     ]
    }
   ],
   "source": [
    "# Predcited probability of each class.\n",
    "y_pred_prob_RF = best_rfc.predict_proba(X_svd_test)\n",
    "# Predicted value of each class\n",
    "y_pred_class_RF = best_rfc.predict(X_svd_test)\n",
    "\n",
    "print(metrics.classification_report(Y_target_test, y_pred_class_RF))"
   ]
  },
  {
   "cell_type": "code",
   "execution_count": 397,
   "metadata": {},
   "outputs": [],
   "source": [
    "# Predcited probability of each class.\n",
    "#y_pred_prob_RF = RF_model_final.predict_proba(X_val)\n",
    "# Predicted value of each class\n",
    "#y_pred_class_RF = RF_model_final.predict(X_val)\n",
    "\n",
    "#print(metrics.classification_report(Y_val, y_pred_class_RF))"
   ]
  },
  {
   "cell_type": "code",
   "execution_count": 398,
   "metadata": {},
   "outputs": [
    {
     "name": "stdout",
     "output_type": "stream",
     "text": [
      "The test accuracy is: \n",
      "0.5711081202332885\n"
     ]
    }
   ],
   "source": [
    "print(\"The test accuracy is: \")\n",
    "print(accuracy_score(Y_target_test, rfc_pred_test))"
   ]
  },
  {
   "cell_type": "code",
   "execution_count": 399,
   "metadata": {},
   "outputs": [
    {
     "name": "stdout",
     "output_type": "stream",
     "text": [
      "Classification report\n",
      "              precision    recall  f1-score   support\n",
      "\n",
      "           0       0.60      0.65      0.62       667\n",
      "           1       0.56      0.49      0.52       627\n",
      "           2       0.25      0.01      0.01       142\n",
      "           3       0.56      0.67      0.61       793\n",
      "\n",
      "    accuracy                           0.57      2229\n",
      "   macro avg       0.49      0.45      0.44      2229\n",
      "weighted avg       0.55      0.57      0.55      2229\n",
      "\n"
     ]
    }
   ],
   "source": [
    "# Classification report\n",
    "print(\"Classification report\")\n",
    "print(classification_report(Y_target_test,rfc_pred_test))"
   ]
  },
  {
   "cell_type": "code",
   "execution_count": 405,
   "metadata": {},
   "outputs": [],
   "source": [
    "final_test_pred = pd.concat([pd.DataFrame(y_pred_prob_RF),pd.DataFrame(y_pred_class_RF,columns=['new_labels'])], axis=1)\n",
    "final_test_pred.to_csv(\"final_test_pred_RF.csv\")"
   ]
  },
  {
   "cell_type": "code",
   "execution_count": 406,
   "metadata": {},
   "outputs": [
    {
     "data": {
      "text/html": [
       "<div>\n",
       "<style scoped>\n",
       "    .dataframe tbody tr th:only-of-type {\n",
       "        vertical-align: middle;\n",
       "    }\n",
       "\n",
       "    .dataframe tbody tr th {\n",
       "        vertical-align: top;\n",
       "    }\n",
       "\n",
       "    .dataframe thead th {\n",
       "        text-align: right;\n",
       "    }\n",
       "</style>\n",
       "<table border=\"1\" class=\"dataframe\">\n",
       "  <thead>\n",
       "    <tr style=\"text-align: right;\">\n",
       "      <th></th>\n",
       "      <th>0</th>\n",
       "      <th>1</th>\n",
       "      <th>2</th>\n",
       "      <th>3</th>\n",
       "      <th>new_labels</th>\n",
       "    </tr>\n",
       "  </thead>\n",
       "  <tbody>\n",
       "    <tr>\n",
       "      <th>0</th>\n",
       "      <td>0.172364</td>\n",
       "      <td>0.444172</td>\n",
       "      <td>0.101157</td>\n",
       "      <td>0.282307</td>\n",
       "      <td>1</td>\n",
       "    </tr>\n",
       "    <tr>\n",
       "      <th>1</th>\n",
       "      <td>0.398857</td>\n",
       "      <td>0.283816</td>\n",
       "      <td>0.124651</td>\n",
       "      <td>0.192676</td>\n",
       "      <td>0</td>\n",
       "    </tr>\n",
       "    <tr>\n",
       "      <th>2</th>\n",
       "      <td>0.161192</td>\n",
       "      <td>0.290760</td>\n",
       "      <td>0.059106</td>\n",
       "      <td>0.488942</td>\n",
       "      <td>3</td>\n",
       "    </tr>\n",
       "    <tr>\n",
       "      <th>3</th>\n",
       "      <td>0.393414</td>\n",
       "      <td>0.267829</td>\n",
       "      <td>0.109662</td>\n",
       "      <td>0.229095</td>\n",
       "      <td>0</td>\n",
       "    </tr>\n",
       "    <tr>\n",
       "      <th>4</th>\n",
       "      <td>0.165122</td>\n",
       "      <td>0.317210</td>\n",
       "      <td>0.083990</td>\n",
       "      <td>0.433678</td>\n",
       "      <td>3</td>\n",
       "    </tr>\n",
       "    <tr>\n",
       "      <th>...</th>\n",
       "      <td>...</td>\n",
       "      <td>...</td>\n",
       "      <td>...</td>\n",
       "      <td>...</td>\n",
       "      <td>...</td>\n",
       "    </tr>\n",
       "    <tr>\n",
       "      <th>2224</th>\n",
       "      <td>0.153331</td>\n",
       "      <td>0.432749</td>\n",
       "      <td>0.169673</td>\n",
       "      <td>0.244247</td>\n",
       "      <td>1</td>\n",
       "    </tr>\n",
       "    <tr>\n",
       "      <th>2225</th>\n",
       "      <td>0.181501</td>\n",
       "      <td>0.301787</td>\n",
       "      <td>0.067069</td>\n",
       "      <td>0.449644</td>\n",
       "      <td>3</td>\n",
       "    </tr>\n",
       "    <tr>\n",
       "      <th>2226</th>\n",
       "      <td>0.128314</td>\n",
       "      <td>0.426864</td>\n",
       "      <td>0.103819</td>\n",
       "      <td>0.341003</td>\n",
       "      <td>1</td>\n",
       "    </tr>\n",
       "    <tr>\n",
       "      <th>2227</th>\n",
       "      <td>0.223630</td>\n",
       "      <td>0.327526</td>\n",
       "      <td>0.215657</td>\n",
       "      <td>0.233188</td>\n",
       "      <td>1</td>\n",
       "    </tr>\n",
       "    <tr>\n",
       "      <th>2228</th>\n",
       "      <td>0.142446</td>\n",
       "      <td>0.347687</td>\n",
       "      <td>0.098557</td>\n",
       "      <td>0.411310</td>\n",
       "      <td>3</td>\n",
       "    </tr>\n",
       "  </tbody>\n",
       "</table>\n",
       "<p>2229 rows × 5 columns</p>\n",
       "</div>"
      ],
      "text/plain": [
       "             0         1         2         3  new_labels\n",
       "0     0.172364  0.444172  0.101157  0.282307           1\n",
       "1     0.398857  0.283816  0.124651  0.192676           0\n",
       "2     0.161192  0.290760  0.059106  0.488942           3\n",
       "3     0.393414  0.267829  0.109662  0.229095           0\n",
       "4     0.165122  0.317210  0.083990  0.433678           3\n",
       "...        ...       ...       ...       ...         ...\n",
       "2224  0.153331  0.432749  0.169673  0.244247           1\n",
       "2225  0.181501  0.301787  0.067069  0.449644           3\n",
       "2226  0.128314  0.426864  0.103819  0.341003           1\n",
       "2227  0.223630  0.327526  0.215657  0.233188           1\n",
       "2228  0.142446  0.347687  0.098557  0.411310           3\n",
       "\n",
       "[2229 rows x 5 columns]"
      ]
     },
     "execution_count": 406,
     "metadata": {},
     "output_type": "execute_result"
    }
   ],
   "source": [
    "final_test_pred"
   ]
  },
  {
   "cell_type": "code",
   "execution_count": 407,
   "metadata": {},
   "outputs": [],
   "source": [
    "from sklearn.metrics import multilabel_confusion_matrix"
   ]
  },
  {
   "cell_type": "code",
   "execution_count": 408,
   "metadata": {},
   "outputs": [
    {
     "data": {
      "text/plain": [
       "array([[[1274,  288],\n",
       "        [ 234,  433]],\n",
       "\n",
       "       [[1357,  245],\n",
       "        [ 318,  309]],\n",
       "\n",
       "       [[2084,    3],\n",
       "        [ 141,    1]],\n",
       "\n",
       "       [[1016,  420],\n",
       "        [ 263,  530]]], dtype=int64)"
      ]
     },
     "execution_count": 408,
     "metadata": {},
     "output_type": "execute_result"
    }
   ],
   "source": [
    " multilabel_confusion_matrix(Y_target_test,final_test_pred['new_labels'])"
   ]
  },
  {
   "cell_type": "code",
   "execution_count": 410,
   "metadata": {},
   "outputs": [
    {
     "data": {
      "text/plain": [
       "Text(0.5, 8.5, 'Predicted label')"
      ]
     },
     "execution_count": 410,
     "metadata": {},
     "output_type": "execute_result"
    },
    {
     "data": {
      "image/png": "[encoded data removed]",
      "text/plain": [
       "<Figure size 432x288 with 2 Axes>"
      ]
     },
     "metadata": {
      "needs_background": "light"
     },
     "output_type": "display_data"
    }
   ],
   "source": [
    "cm1 = metrics.confusion_matrix( Y_target_test,final_test_pred.new_labels )\n",
    "sns.heatmap(cm1, annot=True,  fmt='.2f', xticklabels = ['DR', 'CA','Both','Other'] , yticklabels = ['Both', 'CA','DR','Other'],)\n",
    "plt.ylabel('True label',fontsize=12)\n",
    "plt.xlabel('Predicted label',fontsize=12)"
   ]
  }
 ],
 "metadata": {
  "kernelspec": {
   "display_name": "Python 3",
   "language": "python",
   "name": "python3"
  },
  "language_info": {
   "codemirror_mode": {
    "name": "ipython",
    "version": 3
   },
   "file_extension": ".py",
   "mimetype": "text/x-python",
   "name": "python",
   "nbconvert_exporter": "python",
   "pygments_lexer": "ipython3",
   "version": "3.7.6"
  }
 },
 "nbformat": 4,
 "nbformat_minor": 4
}
